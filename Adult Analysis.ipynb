{
 "cells": [
  {
   "cell_type": "markdown",
   "id": "b029ac76-59b9-4074-bad7-a3ad54af6d6f",
   "metadata": {},
   "source": [
    "# The Adult Income Dataset\n",
    "### A Machine Learning Analysis of USA Census Salary Data\n"
   ]
  },
  {
   "cell_type": "markdown",
   "id": "8b1f10f6-7553-4978-b93d-5c243efc8ebc",
   "metadata": {},
   "source": [
    "#### The importance of census statistics :\n",
    "The census is a special, wide-range activity, which takes place once a decade in the entire country. \n",
    "The purpose is to gather information about the general population, in order to present a full and reliable \n",
    "picture of the population in the country - its housing conditions and demographic, social and \n",
    "economic characteristics...\n",
    "\n",
    "#### Objective of the Project :\n",
    "The goal of this machine learning project is to predict whether a person makes over 50K a year or \n",
    "not given their demographic variation.\n",
    "Source : https://archive.ics.uci.edu/ml/machine-learning-databases/adult/\n"
   ]
  },
  {
   "cell_type": "markdown",
   "id": "ec5ae12b-80b5-4247-9b24-cdd783ef607f",
   "metadata": {},
   "source": [
    "age – The age of the individual\n",
    "\n",
    "type_employer – The type of employer the individual has. Whether they are government, military, private, an d so on.\n",
    "\n",
    "fnlwgt – The \\# of people the census takers believe that observation represents. We will be ignoring this variable\n",
    "\n",
    "education – The highest level of education achieved for that individual\n",
    "\n",
    "education_num – Highest level of education in numerical form\n",
    "\n",
    "marital – Marital status of the individual\n",
    "\n",
    "occupation – The occupation of the individual\n",
    "\n",
    "relationship – A bit more difficult to explain. Contains family relationship values like husband, father, and so on, but only contains one per observation. I’m not sure what this is supposed to represent\n",
    "\n",
    "race – descriptions of the individuals race. Black, White, Eskimo, and so on\n",
    "\n",
    "sex – Biological Sex\n",
    "\n",
    "capital_gain – Capital gains recorded\n",
    "\n",
    "capital_loss – Capital Losses recorded\n",
    "\n",
    "hr_per_week – Hours worked per week\n",
    "\n",
    "country – Country of origin for person\n",
    "\n",
    "income – Boolean Variable. Whether or not the person makes more than \\$50,000 per annum income."
   ]
  },
  {
   "cell_type": "code",
   "execution_count": 96,
   "id": "493ae625-5c2e-4b35-8340-1ea7eade95b6",
   "metadata": {},
   "outputs": [
    {
     "data": {
      "text/html": [
       "<div>\n",
       "<style scoped>\n",
       "    .dataframe tbody tr th:only-of-type {\n",
       "        vertical-align: middle;\n",
       "    }\n",
       "\n",
       "    .dataframe tbody tr th {\n",
       "        vertical-align: top;\n",
       "    }\n",
       "\n",
       "    .dataframe thead th {\n",
       "        text-align: right;\n",
       "    }\n",
       "</style>\n",
       "<table border=\"1\" class=\"dataframe\">\n",
       "  <thead>\n",
       "    <tr style=\"text-align: right;\">\n",
       "      <th></th>\n",
       "      <th>age</th>\n",
       "      <th>workclass</th>\n",
       "      <th>fnlwgt</th>\n",
       "      <th>education</th>\n",
       "      <th>education.num</th>\n",
       "      <th>marital.status</th>\n",
       "      <th>occupation</th>\n",
       "      <th>relationship</th>\n",
       "      <th>race</th>\n",
       "      <th>sex</th>\n",
       "      <th>capital.gain</th>\n",
       "      <th>capital.loss</th>\n",
       "      <th>hours.per.week</th>\n",
       "      <th>native.country</th>\n",
       "      <th>income</th>\n",
       "    </tr>\n",
       "  </thead>\n",
       "  <tbody>\n",
       "    <tr>\n",
       "      <th>0</th>\n",
       "      <td>90</td>\n",
       "      <td>?</td>\n",
       "      <td>77053</td>\n",
       "      <td>HS-grad</td>\n",
       "      <td>9</td>\n",
       "      <td>Widowed</td>\n",
       "      <td>?</td>\n",
       "      <td>Not-in-family</td>\n",
       "      <td>White</td>\n",
       "      <td>Female</td>\n",
       "      <td>0</td>\n",
       "      <td>4356</td>\n",
       "      <td>40</td>\n",
       "      <td>United-States</td>\n",
       "      <td>&lt;=50K</td>\n",
       "    </tr>\n",
       "    <tr>\n",
       "      <th>1</th>\n",
       "      <td>82</td>\n",
       "      <td>Private</td>\n",
       "      <td>132870</td>\n",
       "      <td>HS-grad</td>\n",
       "      <td>9</td>\n",
       "      <td>Widowed</td>\n",
       "      <td>Exec-managerial</td>\n",
       "      <td>Not-in-family</td>\n",
       "      <td>White</td>\n",
       "      <td>Female</td>\n",
       "      <td>0</td>\n",
       "      <td>4356</td>\n",
       "      <td>18</td>\n",
       "      <td>United-States</td>\n",
       "      <td>&lt;=50K</td>\n",
       "    </tr>\n",
       "    <tr>\n",
       "      <th>2</th>\n",
       "      <td>66</td>\n",
       "      <td>?</td>\n",
       "      <td>186061</td>\n",
       "      <td>Some-college</td>\n",
       "      <td>10</td>\n",
       "      <td>Widowed</td>\n",
       "      <td>?</td>\n",
       "      <td>Unmarried</td>\n",
       "      <td>Black</td>\n",
       "      <td>Female</td>\n",
       "      <td>0</td>\n",
       "      <td>4356</td>\n",
       "      <td>40</td>\n",
       "      <td>United-States</td>\n",
       "      <td>&lt;=50K</td>\n",
       "    </tr>\n",
       "    <tr>\n",
       "      <th>3</th>\n",
       "      <td>54</td>\n",
       "      <td>Private</td>\n",
       "      <td>140359</td>\n",
       "      <td>7th-8th</td>\n",
       "      <td>4</td>\n",
       "      <td>Divorced</td>\n",
       "      <td>Machine-op-inspct</td>\n",
       "      <td>Unmarried</td>\n",
       "      <td>White</td>\n",
       "      <td>Female</td>\n",
       "      <td>0</td>\n",
       "      <td>3900</td>\n",
       "      <td>40</td>\n",
       "      <td>United-States</td>\n",
       "      <td>&lt;=50K</td>\n",
       "    </tr>\n",
       "    <tr>\n",
       "      <th>4</th>\n",
       "      <td>41</td>\n",
       "      <td>Private</td>\n",
       "      <td>264663</td>\n",
       "      <td>Some-college</td>\n",
       "      <td>10</td>\n",
       "      <td>Separated</td>\n",
       "      <td>Prof-specialty</td>\n",
       "      <td>Own-child</td>\n",
       "      <td>White</td>\n",
       "      <td>Female</td>\n",
       "      <td>0</td>\n",
       "      <td>3900</td>\n",
       "      <td>40</td>\n",
       "      <td>United-States</td>\n",
       "      <td>&lt;=50K</td>\n",
       "    </tr>\n",
       "  </tbody>\n",
       "</table>\n",
       "</div>"
      ],
      "text/plain": [
       "   age workclass  fnlwgt     education  education.num marital.status  \\\n",
       "0   90         ?   77053       HS-grad              9        Widowed   \n",
       "1   82   Private  132870       HS-grad              9        Widowed   \n",
       "2   66         ?  186061  Some-college             10        Widowed   \n",
       "3   54   Private  140359       7th-8th              4       Divorced   \n",
       "4   41   Private  264663  Some-college             10      Separated   \n",
       "\n",
       "          occupation   relationship   race     sex  capital.gain  \\\n",
       "0                  ?  Not-in-family  White  Female             0   \n",
       "1    Exec-managerial  Not-in-family  White  Female             0   \n",
       "2                  ?      Unmarried  Black  Female             0   \n",
       "3  Machine-op-inspct      Unmarried  White  Female             0   \n",
       "4     Prof-specialty      Own-child  White  Female             0   \n",
       "\n",
       "   capital.loss  hours.per.week native.country income  \n",
       "0          4356              40  United-States  <=50K  \n",
       "1          4356              18  United-States  <=50K  \n",
       "2          4356              40  United-States  <=50K  \n",
       "3          3900              40  United-States  <=50K  \n",
       "4          3900              40  United-States  <=50K  "
      ]
     },
     "execution_count": 96,
     "metadata": {},
     "output_type": "execute_result"
    }
   ],
   "source": [
    "#The income dataset was extracted from US Census database hosted on UCI’s Machine Learning Repository.\n",
    "# aim : to predict whether the person makes <=50k or >50k per year\n",
    "import pandas as pd\n",
    "df = pd.read_csv('adult.csv')\n",
    "df.head()"
   ]
  },
  {
   "cell_type": "code",
   "execution_count": 97,
   "id": "cfe9f3ae-9544-4024-b722-5ac58672e394",
   "metadata": {},
   "outputs": [
    {
     "data": {
      "text/plain": [
       "(32561, 15)"
      ]
     },
     "execution_count": 97,
     "metadata": {},
     "output_type": "execute_result"
    }
   ],
   "source": [
    "df.shape  # this dataset contains approx 32000 observations and 15 attributes"
   ]
  },
  {
   "cell_type": "code",
   "execution_count": 98,
   "id": "73e13f13-105f-48f7-8e57-0a53a6c2c640",
   "metadata": {},
   "outputs": [
    {
     "data": {
      "text/plain": [
       "488415"
      ]
     },
     "execution_count": 98,
     "metadata": {},
     "output_type": "execute_result"
    }
   ],
   "source": [
    "df.size  #this dataset contains 4lakh+ values"
   ]
  },
  {
   "cell_type": "code",
   "execution_count": 99,
   "id": "80a2b819-1ab3-4e8c-915e-b139e697e9ce",
   "metadata": {},
   "outputs": [
    {
     "data": {
      "text/html": [
       "<div>\n",
       "<style scoped>\n",
       "    .dataframe tbody tr th:only-of-type {\n",
       "        vertical-align: middle;\n",
       "    }\n",
       "\n",
       "    .dataframe tbody tr th {\n",
       "        vertical-align: top;\n",
       "    }\n",
       "\n",
       "    .dataframe thead th {\n",
       "        text-align: right;\n",
       "    }\n",
       "</style>\n",
       "<table border=\"1\" class=\"dataframe\">\n",
       "  <thead>\n",
       "    <tr style=\"text-align: right;\">\n",
       "      <th></th>\n",
       "      <th>age</th>\n",
       "      <th>fnlwgt</th>\n",
       "      <th>education.num</th>\n",
       "      <th>capital.gain</th>\n",
       "      <th>capital.loss</th>\n",
       "      <th>hours.per.week</th>\n",
       "    </tr>\n",
       "  </thead>\n",
       "  <tbody>\n",
       "    <tr>\n",
       "      <th>count</th>\n",
       "      <td>32561.000000</td>\n",
       "      <td>3.256100e+04</td>\n",
       "      <td>32561.000000</td>\n",
       "      <td>32561.000000</td>\n",
       "      <td>32561.000000</td>\n",
       "      <td>32561.000000</td>\n",
       "    </tr>\n",
       "    <tr>\n",
       "      <th>mean</th>\n",
       "      <td>38.581647</td>\n",
       "      <td>1.897784e+05</td>\n",
       "      <td>10.080679</td>\n",
       "      <td>1077.648844</td>\n",
       "      <td>87.303830</td>\n",
       "      <td>40.437456</td>\n",
       "    </tr>\n",
       "    <tr>\n",
       "      <th>std</th>\n",
       "      <td>13.640433</td>\n",
       "      <td>1.055500e+05</td>\n",
       "      <td>2.572720</td>\n",
       "      <td>7385.292085</td>\n",
       "      <td>402.960219</td>\n",
       "      <td>12.347429</td>\n",
       "    </tr>\n",
       "    <tr>\n",
       "      <th>min</th>\n",
       "      <td>17.000000</td>\n",
       "      <td>1.228500e+04</td>\n",
       "      <td>1.000000</td>\n",
       "      <td>0.000000</td>\n",
       "      <td>0.000000</td>\n",
       "      <td>1.000000</td>\n",
       "    </tr>\n",
       "    <tr>\n",
       "      <th>25%</th>\n",
       "      <td>28.000000</td>\n",
       "      <td>1.178270e+05</td>\n",
       "      <td>9.000000</td>\n",
       "      <td>0.000000</td>\n",
       "      <td>0.000000</td>\n",
       "      <td>40.000000</td>\n",
       "    </tr>\n",
       "    <tr>\n",
       "      <th>50%</th>\n",
       "      <td>37.000000</td>\n",
       "      <td>1.783560e+05</td>\n",
       "      <td>10.000000</td>\n",
       "      <td>0.000000</td>\n",
       "      <td>0.000000</td>\n",
       "      <td>40.000000</td>\n",
       "    </tr>\n",
       "    <tr>\n",
       "      <th>75%</th>\n",
       "      <td>48.000000</td>\n",
       "      <td>2.370510e+05</td>\n",
       "      <td>12.000000</td>\n",
       "      <td>0.000000</td>\n",
       "      <td>0.000000</td>\n",
       "      <td>45.000000</td>\n",
       "    </tr>\n",
       "    <tr>\n",
       "      <th>max</th>\n",
       "      <td>90.000000</td>\n",
       "      <td>1.484705e+06</td>\n",
       "      <td>16.000000</td>\n",
       "      <td>99999.000000</td>\n",
       "      <td>4356.000000</td>\n",
       "      <td>99.000000</td>\n",
       "    </tr>\n",
       "  </tbody>\n",
       "</table>\n",
       "</div>"
      ],
      "text/plain": [
       "                age        fnlwgt  education.num  capital.gain  capital.loss  \\\n",
       "count  32561.000000  3.256100e+04   32561.000000  32561.000000  32561.000000   \n",
       "mean      38.581647  1.897784e+05      10.080679   1077.648844     87.303830   \n",
       "std       13.640433  1.055500e+05       2.572720   7385.292085    402.960219   \n",
       "min       17.000000  1.228500e+04       1.000000      0.000000      0.000000   \n",
       "25%       28.000000  1.178270e+05       9.000000      0.000000      0.000000   \n",
       "50%       37.000000  1.783560e+05      10.000000      0.000000      0.000000   \n",
       "75%       48.000000  2.370510e+05      12.000000      0.000000      0.000000   \n",
       "max       90.000000  1.484705e+06      16.000000  99999.000000   4356.000000   \n",
       "\n",
       "       hours.per.week  \n",
       "count    32561.000000  \n",
       "mean        40.437456  \n",
       "std         12.347429  \n",
       "min          1.000000  \n",
       "25%         40.000000  \n",
       "50%         40.000000  \n",
       "75%         45.000000  \n",
       "max         99.000000  "
      ]
     },
     "execution_count": 99,
     "metadata": {},
     "output_type": "execute_result"
    }
   ],
   "source": [
    "df.describe()"
   ]
  },
  {
   "cell_type": "code",
   "execution_count": 100,
   "id": "607eb106-f626-49b2-a3ed-cc7803f04c1b",
   "metadata": {},
   "outputs": [
    {
     "name": "stdout",
     "output_type": "stream",
     "text": [
      "<class 'pandas.core.frame.DataFrame'>\n",
      "RangeIndex: 32561 entries, 0 to 32560\n",
      "Data columns (total 15 columns):\n",
      " #   Column          Non-Null Count  Dtype \n",
      "---  ------          --------------  ----- \n",
      " 0   age             32561 non-null  int64 \n",
      " 1   workclass       32561 non-null  object\n",
      " 2   fnlwgt          32561 non-null  int64 \n",
      " 3   education       32561 non-null  object\n",
      " 4   education.num   32561 non-null  int64 \n",
      " 5   marital.status  32561 non-null  object\n",
      " 6   occupation      32561 non-null  object\n",
      " 7   relationship    32561 non-null  object\n",
      " 8   race            32561 non-null  object\n",
      " 9   sex             32561 non-null  object\n",
      " 10  capital.gain    32561 non-null  int64 \n",
      " 11  capital.loss    32561 non-null  int64 \n",
      " 12  hours.per.week  32561 non-null  int64 \n",
      " 13  native.country  32561 non-null  object\n",
      " 14  income          32561 non-null  object\n",
      "dtypes: int64(6), object(9)\n",
      "memory usage: 3.7+ MB\n"
     ]
    }
   ],
   "source": [
    "df.info() # 9 object type and 6 int type variables"
   ]
  },
  {
   "cell_type": "code",
   "execution_count": 101,
   "id": "2fd233b2-e173-4ab0-a6b8-537a6bf4f9c3",
   "metadata": {},
   "outputs": [
    {
     "data": {
      "text/plain": [
       "9"
      ]
     },
     "execution_count": 101,
     "metadata": {},
     "output_type": "execute_result"
    }
   ],
   "source": [
    "df.select_dtypes(['object']).columns.size"
   ]
  },
  {
   "cell_type": "code",
   "execution_count": 102,
   "id": "233a6d72-acf2-4376-a6d4-39c81dfe349f",
   "metadata": {},
   "outputs": [
    {
     "data": {
      "text/plain": [
       "Married-civ-spouse       14976\n",
       "Never-married            10683\n",
       "Divorced                  4443\n",
       "Separated                 1025\n",
       "Widowed                    993\n",
       "Married-spouse-absent      418\n",
       "Married-AF-spouse           23\n",
       "Name: marital.status, dtype: int64"
      ]
     },
     "execution_count": 102,
     "metadata": {},
     "output_type": "execute_result"
    }
   ],
   "source": [
    "df['marital.status'].value_counts()"
   ]
  },
  {
   "cell_type": "code",
   "execution_count": 103,
   "id": "64eb5bb9-53bd-40b4-899b-ac1ea08ce290",
   "metadata": {},
   "outputs": [
    {
     "data": {
      "text/plain": [
       "White                 27816\n",
       "Black                  3124\n",
       "Asian-Pac-Islander     1039\n",
       "Amer-Indian-Eskimo      311\n",
       "Other                   271\n",
       "Name: race, dtype: int64"
      ]
     },
     "execution_count": 103,
     "metadata": {},
     "output_type": "execute_result"
    }
   ],
   "source": [
    "df.race.value_counts()"
   ]
  },
  {
   "cell_type": "code",
   "execution_count": 104,
   "id": "54a1b693-f1e8-4d48-8fb7-fc1f8e04b8f4",
   "metadata": {},
   "outputs": [
    {
     "data": {
      "text/plain": [
       "Husband           13193\n",
       "Not-in-family      8305\n",
       "Own-child          5068\n",
       "Unmarried          3446\n",
       "Wife               1568\n",
       "Other-relative      981\n",
       "Name: relationship, dtype: int64"
      ]
     },
     "execution_count": 104,
     "metadata": {},
     "output_type": "execute_result"
    }
   ],
   "source": [
    "df.relationship.value_counts()"
   ]
  },
  {
   "cell_type": "code",
   "execution_count": 105,
   "id": "34b101b4-6948-4365-841a-a8eed8b98a20",
   "metadata": {},
   "outputs": [
    {
     "data": {
      "text/plain": [
       "<=50K    24720\n",
       ">50K      7841\n",
       "Name: income, dtype: int64"
      ]
     },
     "execution_count": 105,
     "metadata": {},
     "output_type": "execute_result"
    }
   ],
   "source": [
    "df.income.value_counts()  # approx 75% peoples income is <=50k"
   ]
  },
  {
   "cell_type": "code",
   "execution_count": 106,
   "id": "9c5ff5e9-4315-4f9f-9c74-b333e87e0ece",
   "metadata": {},
   "outputs": [
    {
     "data": {
      "text/plain": [
       "Male      21790\n",
       "Female    10771\n",
       "Name: sex, dtype: int64"
      ]
     },
     "execution_count": 106,
     "metadata": {},
     "output_type": "execute_result"
    }
   ],
   "source": [
    "df.sex.value_counts()"
   ]
  },
  {
   "cell_type": "code",
   "execution_count": 107,
   "id": "63bb0e8c-1991-4315-8134-2a795bd8ff86",
   "metadata": {},
   "outputs": [
    {
     "data": {
      "text/plain": [
       "Private             22696\n",
       "Self-emp-not-inc     2541\n",
       "Local-gov            2093\n",
       "?                    1836\n",
       "State-gov            1298\n",
       "Self-emp-inc         1116\n",
       "Federal-gov           960\n",
       "Without-pay            14\n",
       "Never-worked            7\n",
       "Name: workclass, dtype: int64"
      ]
     },
     "execution_count": 107,
     "metadata": {},
     "output_type": "execute_result"
    }
   ],
   "source": [
    "df.workclass.value_counts()"
   ]
  },
  {
   "cell_type": "code",
   "execution_count": 108,
   "id": "17d959be-c148-4304-a2b1-91710a55efd3",
   "metadata": {},
   "outputs": [
    {
     "data": {
      "text/plain": [
       "Prof-specialty       4140\n",
       "Craft-repair         4099\n",
       "Exec-managerial      4066\n",
       "Adm-clerical         3770\n",
       "Sales                3650\n",
       "Other-service        3295\n",
       "Machine-op-inspct    2002\n",
       "?                    1843\n",
       "Transport-moving     1597\n",
       "Handlers-cleaners    1370\n",
       "Farming-fishing       994\n",
       "Tech-support          928\n",
       "Protective-serv       649\n",
       "Priv-house-serv       149\n",
       "Armed-Forces            9\n",
       "Name: occupation, dtype: int64"
      ]
     },
     "execution_count": 108,
     "metadata": {},
     "output_type": "execute_result"
    }
   ],
   "source": [
    "df.occupation.value_counts()"
   ]
  },
  {
   "cell_type": "code",
   "execution_count": 109,
   "id": "3329f018-cf93-4bee-95e1-58f01e321531",
   "metadata": {},
   "outputs": [
    {
     "data": {
      "text/plain": [
       "United-States                 29170\n",
       "Mexico                          643\n",
       "?                               583\n",
       "Philippines                     198\n",
       "Germany                         137\n",
       "Canada                          121\n",
       "Puerto-Rico                     114\n",
       "El-Salvador                     106\n",
       "India                           100\n",
       "Cuba                             95\n",
       "England                          90\n",
       "Jamaica                          81\n",
       "South                            80\n",
       "China                            75\n",
       "Italy                            73\n",
       "Dominican-Republic               70\n",
       "Vietnam                          67\n",
       "Guatemala                        64\n",
       "Japan                            62\n",
       "Poland                           60\n",
       "Columbia                         59\n",
       "Taiwan                           51\n",
       "Haiti                            44\n",
       "Iran                             43\n",
       "Portugal                         37\n",
       "Nicaragua                        34\n",
       "Peru                             31\n",
       "Greece                           29\n",
       "France                           29\n",
       "Ecuador                          28\n",
       "Ireland                          24\n",
       "Hong                             20\n",
       "Cambodia                         19\n",
       "Trinadad&Tobago                  19\n",
       "Laos                             18\n",
       "Thailand                         18\n",
       "Yugoslavia                       16\n",
       "Outlying-US(Guam-USVI-etc)       14\n",
       "Hungary                          13\n",
       "Honduras                         13\n",
       "Scotland                         12\n",
       "Holand-Netherlands                1\n",
       "Name: native.country, dtype: int64"
      ]
     },
     "execution_count": 109,
     "metadata": {},
     "output_type": "execute_result"
    }
   ],
   "source": [
    "df['native.country'].value_counts()"
   ]
  },
  {
   "cell_type": "code",
   "execution_count": 110,
   "id": "7bd4577a-4442-4438-bd1c-388c882c254f",
   "metadata": {},
   "outputs": [
    {
     "data": {
      "text/plain": [
       "age               0\n",
       "workclass         0\n",
       "fnlwgt            0\n",
       "education         0\n",
       "education.num     0\n",
       "marital.status    0\n",
       "occupation        0\n",
       "relationship      0\n",
       "race              0\n",
       "sex               0\n",
       "capital.gain      0\n",
       "capital.loss      0\n",
       "hours.per.week    0\n",
       "native.country    0\n",
       "income            0\n",
       "dtype: int64"
      ]
     },
     "execution_count": 110,
     "metadata": {},
     "output_type": "execute_result"
    }
   ],
   "source": [
    "df.isnull().sum()"
   ]
  },
  {
   "cell_type": "code",
   "execution_count": 111,
   "id": "49bf86aa-956b-4760-8567-79f464f0577d",
   "metadata": {},
   "outputs": [
    {
     "data": {
      "text/plain": [
       "Index(['workclass', 'occupation', 'native.country'], dtype='object')"
      ]
     },
     "execution_count": 111,
     "metadata": {},
     "output_type": "execute_result"
    }
   ],
   "source": [
    "df.loc[::,(df == '?').any()].columns  # there are 3 variables contains '?' some values"
   ]
  },
  {
   "cell_type": "code",
   "execution_count": 112,
   "id": "29a3178c-1435-45f7-8ae7-10674ffb7ad2",
   "metadata": {},
   "outputs": [
    {
     "data": {
      "text/plain": [
       "age                  0\n",
       "workclass         1836\n",
       "fnlwgt               0\n",
       "education            0\n",
       "education.num        0\n",
       "marital.status       0\n",
       "occupation        1843\n",
       "relationship         0\n",
       "race                 0\n",
       "sex                  0\n",
       "capital.gain         0\n",
       "capital.loss         0\n",
       "hours.per.week       0\n",
       "native.country     583\n",
       "income               0\n",
       "dtype: int64"
      ]
     },
     "execution_count": 112,
     "metadata": {},
     "output_type": "execute_result"
    }
   ],
   "source": [
    "import numpy as np\n",
    "df = df.replace({'?' : np.NAN}) # replace '?' with NAN\n",
    "df.isnull().sum() # now check their is null present or not"
   ]
  },
  {
   "cell_type": "markdown",
   "id": "680c9bee-471d-47e9-81a1-aee862a4479d",
   "metadata": {},
   "source": [
    "variable ['workclass','occupation','native.country'] having null values so we should replace them with another values\n"
   ]
  },
  {
   "cell_type": "code",
   "execution_count": 113,
   "id": "923e682c-f1eb-40ce-aa07-9549bc33564a",
   "metadata": {},
   "outputs": [],
   "source": [
    "df['workclass']=df['workclass'].fillna('Private')\n",
    "df['occupation']=df['occupation'].fillna('Other-service')\n",
    "df['native.country']=df['native.country'].fillna('United-States')"
   ]
  },
  {
   "cell_type": "markdown",
   "id": "afcc51a6-6433-4297-9bff-9f174da2f6e3",
   "metadata": {},
   "source": [
    "In workclass var , private sector contains max numbers so we put private in place of null .\n",
    "\n",
    "\n",
    "In occupation , prof-speciality are more but we put other-service instead of prof-speciality because other service will be more suitable.\n",
    "\n",
    "\n",
    "In native.country , usa contains max obeservations so we should replace null values with usa"
   ]
  },
  {
   "cell_type": "code",
   "execution_count": 114,
   "id": "9ca7a029-07c4-491a-af86-4ed7f17725af",
   "metadata": {},
   "outputs": [
    {
     "data": {
      "text/plain": [
       "age               0\n",
       "workclass         0\n",
       "fnlwgt            0\n",
       "education         0\n",
       "education.num     0\n",
       "marital.status    0\n",
       "occupation        0\n",
       "relationship      0\n",
       "race              0\n",
       "sex               0\n",
       "capital.gain      0\n",
       "capital.loss      0\n",
       "hours.per.week    0\n",
       "native.country    0\n",
       "income            0\n",
       "dtype: int64"
      ]
     },
     "execution_count": 114,
     "metadata": {},
     "output_type": "execute_result"
    }
   ],
   "source": [
    "df.isnull().sum()  # no nulls are present "
   ]
  },
  {
   "cell_type": "code",
   "execution_count": 115,
   "id": "11fbb3ca-f6dc-4294-ba95-e27fbb366d04",
   "metadata": {},
   "outputs": [
    {
     "data": {
      "text/html": [
       "<div>\n",
       "<style scoped>\n",
       "    .dataframe tbody tr th:only-of-type {\n",
       "        vertical-align: middle;\n",
       "    }\n",
       "\n",
       "    .dataframe tbody tr th {\n",
       "        vertical-align: top;\n",
       "    }\n",
       "\n",
       "    .dataframe thead th {\n",
       "        text-align: right;\n",
       "    }\n",
       "</style>\n",
       "<table border=\"1\" class=\"dataframe\">\n",
       "  <thead>\n",
       "    <tr style=\"text-align: right;\">\n",
       "      <th></th>\n",
       "      <th>education</th>\n",
       "      <th>education_no</th>\n",
       "    </tr>\n",
       "  </thead>\n",
       "  <tbody>\n",
       "    <tr>\n",
       "      <th>15</th>\n",
       "      <td>Preschool</td>\n",
       "      <td>1</td>\n",
       "    </tr>\n",
       "    <tr>\n",
       "      <th>11</th>\n",
       "      <td>1st-4th</td>\n",
       "      <td>2</td>\n",
       "    </tr>\n",
       "    <tr>\n",
       "      <th>12</th>\n",
       "      <td>5th-6th</td>\n",
       "      <td>3</td>\n",
       "    </tr>\n",
       "    <tr>\n",
       "      <th>2</th>\n",
       "      <td>7th-8th</td>\n",
       "      <td>4</td>\n",
       "    </tr>\n",
       "    <tr>\n",
       "      <th>14</th>\n",
       "      <td>9th</td>\n",
       "      <td>5</td>\n",
       "    </tr>\n",
       "    <tr>\n",
       "      <th>3</th>\n",
       "      <td>10th</td>\n",
       "      <td>6</td>\n",
       "    </tr>\n",
       "    <tr>\n",
       "      <th>8</th>\n",
       "      <td>11th</td>\n",
       "      <td>7</td>\n",
       "    </tr>\n",
       "    <tr>\n",
       "      <th>13</th>\n",
       "      <td>12th</td>\n",
       "      <td>8</td>\n",
       "    </tr>\n",
       "    <tr>\n",
       "      <th>0</th>\n",
       "      <td>HS-grad</td>\n",
       "      <td>9</td>\n",
       "    </tr>\n",
       "    <tr>\n",
       "      <th>1</th>\n",
       "      <td>Some-college</td>\n",
       "      <td>10</td>\n",
       "    </tr>\n",
       "    <tr>\n",
       "      <th>10</th>\n",
       "      <td>Assoc-voc</td>\n",
       "      <td>11</td>\n",
       "    </tr>\n",
       "    <tr>\n",
       "      <th>9</th>\n",
       "      <td>Assoc-acdm</td>\n",
       "      <td>12</td>\n",
       "    </tr>\n",
       "    <tr>\n",
       "      <th>6</th>\n",
       "      <td>Bachelors</td>\n",
       "      <td>13</td>\n",
       "    </tr>\n",
       "    <tr>\n",
       "      <th>7</th>\n",
       "      <td>Masters</td>\n",
       "      <td>14</td>\n",
       "    </tr>\n",
       "    <tr>\n",
       "      <th>5</th>\n",
       "      <td>Prof-school</td>\n",
       "      <td>15</td>\n",
       "    </tr>\n",
       "    <tr>\n",
       "      <th>4</th>\n",
       "      <td>Doctorate</td>\n",
       "      <td>16</td>\n",
       "    </tr>\n",
       "  </tbody>\n",
       "</table>\n",
       "</div>"
      ],
      "text/plain": [
       "       education  education_no\n",
       "15     Preschool             1\n",
       "11       1st-4th             2\n",
       "12       5th-6th             3\n",
       "2        7th-8th             4\n",
       "14           9th             5\n",
       "3           10th             6\n",
       "8           11th             7\n",
       "13          12th             8\n",
       "0        HS-grad             9\n",
       "1   Some-college            10\n",
       "10     Assoc-voc            11\n",
       "9     Assoc-acdm            12\n",
       "6      Bachelors            13\n",
       "7        Masters            14\n",
       "5    Prof-school            15\n",
       "4      Doctorate            16"
      ]
     },
     "execution_count": 115,
     "metadata": {},
     "output_type": "execute_result"
    }
   ],
   "source": [
    "educational_df=pd.DataFrame({'education':df['education'].unique(),'education_no':df['education.num'].unique()})\n",
    "educational_df.sort_values('education_no',ascending = True)"
   ]
  },
  {
   "cell_type": "markdown",
   "id": "3744147c-eb7c-451a-b080-53b19a097b18",
   "metadata": {},
   "source": [
    "Education.num is clear seen replica in numerical of education column so we drop education column"
   ]
  },
  {
   "cell_type": "code",
   "execution_count": 116,
   "id": "53fc1215-604d-47f0-9966-505e2c7ca6f1",
   "metadata": {},
   "outputs": [
    {
     "data": {
      "text/html": [
       "<div>\n",
       "<style scoped>\n",
       "    .dataframe tbody tr th:only-of-type {\n",
       "        vertical-align: middle;\n",
       "    }\n",
       "\n",
       "    .dataframe tbody tr th {\n",
       "        vertical-align: top;\n",
       "    }\n",
       "\n",
       "    .dataframe thead th {\n",
       "        text-align: right;\n",
       "    }\n",
       "</style>\n",
       "<table border=\"1\" class=\"dataframe\">\n",
       "  <thead>\n",
       "    <tr style=\"text-align: right;\">\n",
       "      <th></th>\n",
       "      <th>age</th>\n",
       "      <th>fnlwgt</th>\n",
       "      <th>education.num</th>\n",
       "      <th>capital.gain</th>\n",
       "      <th>capital.loss</th>\n",
       "      <th>hours.per.week</th>\n",
       "    </tr>\n",
       "  </thead>\n",
       "  <tbody>\n",
       "    <tr>\n",
       "      <th>age</th>\n",
       "      <td>1.000000</td>\n",
       "      <td>-0.076646</td>\n",
       "      <td>0.036527</td>\n",
       "      <td>0.077674</td>\n",
       "      <td>0.057775</td>\n",
       "      <td>0.068756</td>\n",
       "    </tr>\n",
       "    <tr>\n",
       "      <th>fnlwgt</th>\n",
       "      <td>-0.076646</td>\n",
       "      <td>1.000000</td>\n",
       "      <td>-0.043195</td>\n",
       "      <td>0.000432</td>\n",
       "      <td>-0.010252</td>\n",
       "      <td>-0.018768</td>\n",
       "    </tr>\n",
       "    <tr>\n",
       "      <th>education.num</th>\n",
       "      <td>0.036527</td>\n",
       "      <td>-0.043195</td>\n",
       "      <td>1.000000</td>\n",
       "      <td>0.122630</td>\n",
       "      <td>0.079923</td>\n",
       "      <td>0.148123</td>\n",
       "    </tr>\n",
       "    <tr>\n",
       "      <th>capital.gain</th>\n",
       "      <td>0.077674</td>\n",
       "      <td>0.000432</td>\n",
       "      <td>0.122630</td>\n",
       "      <td>1.000000</td>\n",
       "      <td>-0.031615</td>\n",
       "      <td>0.078409</td>\n",
       "    </tr>\n",
       "    <tr>\n",
       "      <th>capital.loss</th>\n",
       "      <td>0.057775</td>\n",
       "      <td>-0.010252</td>\n",
       "      <td>0.079923</td>\n",
       "      <td>-0.031615</td>\n",
       "      <td>1.000000</td>\n",
       "      <td>0.054256</td>\n",
       "    </tr>\n",
       "    <tr>\n",
       "      <th>hours.per.week</th>\n",
       "      <td>0.068756</td>\n",
       "      <td>-0.018768</td>\n",
       "      <td>0.148123</td>\n",
       "      <td>0.078409</td>\n",
       "      <td>0.054256</td>\n",
       "      <td>1.000000</td>\n",
       "    </tr>\n",
       "  </tbody>\n",
       "</table>\n",
       "</div>"
      ],
      "text/plain": [
       "                     age    fnlwgt  education.num  capital.gain  capital.loss  \\\n",
       "age             1.000000 -0.076646       0.036527      0.077674      0.057775   \n",
       "fnlwgt         -0.076646  1.000000      -0.043195      0.000432     -0.010252   \n",
       "education.num   0.036527 -0.043195       1.000000      0.122630      0.079923   \n",
       "capital.gain    0.077674  0.000432       0.122630      1.000000     -0.031615   \n",
       "capital.loss    0.057775 -0.010252       0.079923     -0.031615      1.000000   \n",
       "hours.per.week  0.068756 -0.018768       0.148123      0.078409      0.054256   \n",
       "\n",
       "                hours.per.week  \n",
       "age                   0.068756  \n",
       "fnlwgt               -0.018768  \n",
       "education.num         0.148123  \n",
       "capital.gain          0.078409  \n",
       "capital.loss          0.054256  \n",
       "hours.per.week        1.000000  "
      ]
     },
     "execution_count": 116,
     "metadata": {},
     "output_type": "execute_result"
    }
   ],
   "source": [
    "df.corr()"
   ]
  },
  {
   "cell_type": "markdown",
   "id": "64b9bade-20c5-4d9c-a82b-806f900643c3",
   "metadata": {
    "tags": []
   },
   "source": [
    " corr of final weight(fnlwgt) is very small hence drop fnlwgt"
   ]
  },
  {
   "cell_type": "code",
   "execution_count": 117,
   "id": "aee36591-eee5-4ec2-8d3b-dd2b4ae1a9fa",
   "metadata": {},
   "outputs": [],
   "source": [
    "df.drop(['education','fnlwgt','relationship'],axis=1,inplace = True) # drop education and fnlwgt"
   ]
  },
  {
   "cell_type": "code",
   "execution_count": 118,
   "id": "658a9b90-f82c-489e-9c9d-38cacf4ebb07",
   "metadata": {},
   "outputs": [],
   "source": [
    "# In chi2\n",
    "# if porbability value is less than 5% then we reject the null hypothesis\n",
    "# ho= there is no relation between given feature with dependent variable\n",
    "# ha= there is relation between given feature with dependent variable"
   ]
  },
  {
   "cell_type": "code",
   "execution_count": 119,
   "id": "586aecca-d188-4b3c-969b-2b9fc614cca6",
   "metadata": {},
   "outputs": [
    {
     "name": "stdout",
     "output_type": "stream",
     "text": [
      "workclass has p_value of 3.848177814824396e-195\n",
      "marital.status has p_value of 0.0\n",
      "occupation has p_value of 0.0\n",
      "race has p_value of 2.305960610160958e-70\n",
      "sex has p_value of 0.0\n",
      "native.country has p_value of 8.005212705688595e-45\n",
      "income has p_value of 0.0\n"
     ]
    }
   ],
   "source": [
    "for cols in df.columns:\n",
    "    if df[cols].dtype=='object':\n",
    "        from scipy.stats import chi2_contingency\n",
    "        chi_df=pd.crosstab(df[cols],df['income'])\n",
    "        a,p_value,b,c=chi2_contingency(chi_df)\n",
    "        if p_value < 0.05:\n",
    "            print(f'{cols} has p_value of {p_value}')"
   ]
  },
  {
   "cell_type": "markdown",
   "id": "3d01775e-101a-4927-829c-f777b03a64db",
   "metadata": {},
   "source": [
    "hence all p_value is less tha 0.05 so the independent variabls having relationship between dependent variable"
   ]
  },
  {
   "cell_type": "markdown",
   "id": "c78f2a93-3282-4877-a1bc-5a679a41ebb6",
   "metadata": {},
   "source": [
    "### Visualization"
   ]
  },
  {
   "cell_type": "code",
   "execution_count": 120,
   "id": "c9fc419b-6a8c-4712-b793-2a235960a6a6",
   "metadata": {},
   "outputs": [],
   "source": [
    "import matplotlib.pyplot as plt\n",
    "import seaborn as sns"
   ]
  },
  {
   "cell_type": "code",
   "execution_count": 121,
   "id": "948faff6-7997-4164-b6ae-b314f437fd85",
   "metadata": {},
   "outputs": [
    {
     "data": {
      "text/plain": [
       "<AxesSubplot:xlabel='income', ylabel='count'>"
      ]
     },
     "execution_count": 121,
     "metadata": {},
     "output_type": "execute_result"
    },
    {
     "data": {
      "image/png": "[encoded data removed]",
      "text/plain": [
       "<Figure size 576x432 with 1 Axes>"
      ]
     },
     "metadata": {},
     "output_type": "display_data"
    }
   ],
   "source": [
    "fig = plt.figure(figsize=(8,6))\n",
    "plt.style.use('seaborn-ticks')\n",
    "sns.countplot(x=\"income\", data=df)"
   ]
  },
  {
   "cell_type": "markdown",
   "id": "7f5e4369-da34-4d9a-b6f3-09376a20789a",
   "metadata": {},
   "source": [
    " data is imbalanced"
   ]
  },
  {
   "cell_type": "code",
   "execution_count": 122,
   "id": "d85ddc61-2748-4502-aefb-da84bd9f6cf4",
   "metadata": {},
   "outputs": [
    {
     "name": "stderr",
     "output_type": "stream",
     "text": [
      "C:\\Users\\Asus\\anaconda3\\lib\\site-packages\\seaborn\\_decorators.py:36: FutureWarning: Pass the following variable as a keyword arg: x. From version 0.12, the only valid positional argument will be `data`, and passing other arguments without an explicit keyword will result in an error or misinterpretation.\n",
      "  warnings.warn(\n"
     ]
    },
    {
     "data": {
      "text/plain": [
       "<AxesSubplot:xlabel='age'>"
      ]
     },
     "execution_count": 122,
     "metadata": {},
     "output_type": "execute_result"
    },
    {
     "data": {
      "image/png": "[encoded data removed]",
      "text/plain": [
       "<Figure size 432x288 with 1 Axes>"
      ]
     },
     "metadata": {},
     "output_type": "display_data"
    }
   ],
   "source": [
    "sns.boxplot(df['age'])  # outliers are present in age section"
   ]
  },
  {
   "cell_type": "code",
   "execution_count": 123,
   "id": "f34d3678-e77c-409a-8d12-e588ceeb1359",
   "metadata": {},
   "outputs": [],
   "source": [
    "#df['capital.loss'].value_counts()"
   ]
  },
  {
   "cell_type": "code",
   "execution_count": 124,
   "id": "708200dd-a89a-4e8c-8ab3-35f999cb5436",
   "metadata": {},
   "outputs": [
    {
     "data": {
      "image/png": "[encoded data removed]",
      "text/plain": [
       "<Figure size 864x864 with 9 Axes>"
      ]
     },
     "metadata": {},
     "output_type": "display_data"
    }
   ],
   "source": [
    "df.hist(figsize = (12,12) , layout=(3,3))\n",
    "plt.show()"
   ]
  },
  {
   "cell_type": "code",
   "execution_count": 125,
   "id": "963576c2-91b9-4950-9ebf-1fe00aac2244",
   "metadata": {},
   "outputs": [
    {
     "data": {
      "image/png": "[encoded data removed]",
      "text/plain": [
       "<Figure size 864x864 with 9 Axes>"
      ]
     },
     "metadata": {},
     "output_type": "display_data"
    }
   ],
   "source": [
    "df.plot(kind = 'box',figsize = (12,12) , layout = (3,3) , sharex = False , subplots = True);"
   ]
  },
  {
   "cell_type": "code",
   "execution_count": 126,
   "id": "c7d2f062-a0a3-43cf-bc0e-9a0679c878ef",
   "metadata": {},
   "outputs": [
    {
     "data": {
      "image/png": "[encoded data removed]",
      "text/plain": [
       "<Figure size 432x288 with 1 Axes>"
      ]
     },
     "metadata": {},
     "output_type": "display_data"
    }
   ],
   "source": [
    "sns.countplot( y ='race' , hue = 'income' , data = df , palette = 'magma');"
   ]
  },
  {
   "cell_type": "code",
   "execution_count": 127,
   "id": "14df0e7c-1760-4e9f-9fd2-a6c9503b885b",
   "metadata": {},
   "outputs": [
    {
     "data": {
      "image/png": "[encoded data removed]",
      "text/plain": [
       "<Figure size 432x288 with 1 Axes>"
      ]
     },
     "metadata": {},
     "output_type": "display_data"
    }
   ],
   "source": [
    "sns.countplot( y ='occupation' , hue = 'income' , data = df , palette = 'magma');"
   ]
  },
  {
   "cell_type": "code",
   "execution_count": 128,
   "id": "3930e808-36de-4df9-9e7d-e2685193efc2",
   "metadata": {},
   "outputs": [
    {
     "data": {
      "image/png": "[encoded data removed]",
      "text/plain": [
       "<Figure size 432x288 with 1 Axes>"
      ]
     },
     "metadata": {},
     "output_type": "display_data"
    }
   ],
   "source": [
    "sns.countplot( y ='sex' , hue = 'income' , data = df , palette = 'magma');"
   ]
  },
  {
   "cell_type": "code",
   "execution_count": 129,
   "id": "73ac1df9-a380-4e1a-932c-0556a1962bd9",
   "metadata": {},
   "outputs": [
    {
     "data": {
      "text/plain": [
       "count    32561.000000\n",
       "mean        40.437456\n",
       "std         12.347429\n",
       "min          1.000000\n",
       "25%         40.000000\n",
       "50%         40.000000\n",
       "75%         45.000000\n",
       "max         99.000000\n",
       "Name: hours.per.week, dtype: float64"
      ]
     },
     "execution_count": 129,
     "metadata": {},
     "output_type": "execute_result"
    }
   ],
   "source": [
    "df['hours.per.week'].describe()"
   ]
  },
  {
   "cell_type": "code",
   "execution_count": 130,
   "id": "39a8c794-9754-4fdb-b548-b697779aab70",
   "metadata": {},
   "outputs": [],
   "source": [
    "# Removing outliers \n",
    "for cols in df.columns:\n",
    "    if df[cols].dtype!='object':\n",
    "        q1=df[cols].quantile(0.25)\n",
    "        q3=df[cols].quantile(0.75)\n",
    "        q2=q3-q1\n",
    "        low=q1-(1.5*q2)\n",
    "        high=q3+(1.5*q2)\n",
    "        (df.loc[(df[cols]<low) | (df[cols]>high),cols])=df[cols].median()"
   ]
  },
  {
   "cell_type": "code",
   "execution_count": 131,
   "id": "a0ec2652-9961-4bc5-8be1-25756294ba6c",
   "metadata": {},
   "outputs": [
    {
     "data": {
      "text/plain": [
       "Index(['age', 'workclass', 'education.num', 'marital.status', 'occupation',\n",
       "       'race', 'sex', 'capital.gain', 'capital.loss', 'hours.per.week',\n",
       "       'native.country', 'income'],\n",
       "      dtype='object')"
      ]
     },
     "execution_count": 131,
     "metadata": {},
     "output_type": "execute_result"
    }
   ],
   "source": [
    "df.columns"
   ]
  },
  {
   "cell_type": "code",
   "execution_count": 132,
   "id": "a9a0661c-047f-437d-91be-15b0b3cd77d6",
   "metadata": {},
   "outputs": [
    {
     "data": {
      "image/png": "[encoded data removed]",
      "text/plain": [
       "<Figure size 864x864 with 9 Axes>"
      ]
     },
     "metadata": {},
     "output_type": "display_data"
    }
   ],
   "source": [
    "df.hist(figsize = (12,12) , layout=(3,3))\n",
    "plt.show()"
   ]
  },
  {
   "cell_type": "markdown",
   "id": "2afc091f-51ac-4d01-bfb6-419a2e14d896",
   "metadata": {},
   "source": [
    "### categorical to numerical"
   ]
  },
  {
   "cell_type": "code",
   "execution_count": 133,
   "id": "ff4da170-99f4-439e-a317-997275baed86",
   "metadata": {},
   "outputs": [
    {
     "data": {
      "text/plain": [
       "<=50K    24720\n",
       ">50K      7841\n",
       "Name: income, dtype: int64"
      ]
     },
     "execution_count": 133,
     "metadata": {},
     "output_type": "execute_result"
    }
   ],
   "source": [
    "df['income'].value_counts()"
   ]
  },
  {
   "cell_type": "code",
   "execution_count": 134,
   "id": "05d3c262-96a4-479b-9e11-fc32430002a4",
   "metadata": {},
   "outputs": [],
   "source": [
    "# to convert the labelled (non - numeric ) to numeric\n",
    "df['income'] = df['income'].replace({'<=50K':0 , '>50K':1})"
   ]
  },
  {
   "cell_type": "code",
   "execution_count": 135,
   "id": "fef65c05-783d-4e2f-9e54-668e0e577939",
   "metadata": {},
   "outputs": [],
   "source": [
    "df = pd.get_dummies(df)"
   ]
  },
  {
   "cell_type": "code",
   "execution_count": 136,
   "id": "58135147-cdd6-4e85-a275-fa91d01d273d",
   "metadata": {},
   "outputs": [
    {
     "data": {
      "text/html": [
       "<div>\n",
       "<style scoped>\n",
       "    .dataframe tbody tr th:only-of-type {\n",
       "        vertical-align: middle;\n",
       "    }\n",
       "\n",
       "    .dataframe tbody tr th {\n",
       "        vertical-align: top;\n",
       "    }\n",
       "\n",
       "    .dataframe thead th {\n",
       "        text-align: right;\n",
       "    }\n",
       "</style>\n",
       "<table border=\"1\" class=\"dataframe\">\n",
       "  <thead>\n",
       "    <tr style=\"text-align: right;\">\n",
       "      <th></th>\n",
       "      <th>age</th>\n",
       "      <th>education.num</th>\n",
       "      <th>capital.gain</th>\n",
       "      <th>capital.loss</th>\n",
       "      <th>hours.per.week</th>\n",
       "      <th>income</th>\n",
       "      <th>workclass_Federal-gov</th>\n",
       "      <th>workclass_Local-gov</th>\n",
       "      <th>workclass_Never-worked</th>\n",
       "      <th>workclass_Private</th>\n",
       "      <th>...</th>\n",
       "      <th>native.country_Portugal</th>\n",
       "      <th>native.country_Puerto-Rico</th>\n",
       "      <th>native.country_Scotland</th>\n",
       "      <th>native.country_South</th>\n",
       "      <th>native.country_Taiwan</th>\n",
       "      <th>native.country_Thailand</th>\n",
       "      <th>native.country_Trinadad&amp;Tobago</th>\n",
       "      <th>native.country_United-States</th>\n",
       "      <th>native.country_Vietnam</th>\n",
       "      <th>native.country_Yugoslavia</th>\n",
       "    </tr>\n",
       "  </thead>\n",
       "  <tbody>\n",
       "    <tr>\n",
       "      <th>0</th>\n",
       "      <td>37</td>\n",
       "      <td>9</td>\n",
       "      <td>0</td>\n",
       "      <td>0</td>\n",
       "      <td>40</td>\n",
       "      <td>0</td>\n",
       "      <td>0</td>\n",
       "      <td>0</td>\n",
       "      <td>0</td>\n",
       "      <td>1</td>\n",
       "      <td>...</td>\n",
       "      <td>0</td>\n",
       "      <td>0</td>\n",
       "      <td>0</td>\n",
       "      <td>0</td>\n",
       "      <td>0</td>\n",
       "      <td>0</td>\n",
       "      <td>0</td>\n",
       "      <td>1</td>\n",
       "      <td>0</td>\n",
       "      <td>0</td>\n",
       "    </tr>\n",
       "    <tr>\n",
       "      <th>1</th>\n",
       "      <td>37</td>\n",
       "      <td>9</td>\n",
       "      <td>0</td>\n",
       "      <td>0</td>\n",
       "      <td>40</td>\n",
       "      <td>0</td>\n",
       "      <td>0</td>\n",
       "      <td>0</td>\n",
       "      <td>0</td>\n",
       "      <td>1</td>\n",
       "      <td>...</td>\n",
       "      <td>0</td>\n",
       "      <td>0</td>\n",
       "      <td>0</td>\n",
       "      <td>0</td>\n",
       "      <td>0</td>\n",
       "      <td>0</td>\n",
       "      <td>0</td>\n",
       "      <td>1</td>\n",
       "      <td>0</td>\n",
       "      <td>0</td>\n",
       "    </tr>\n",
       "    <tr>\n",
       "      <th>2</th>\n",
       "      <td>66</td>\n",
       "      <td>10</td>\n",
       "      <td>0</td>\n",
       "      <td>0</td>\n",
       "      <td>40</td>\n",
       "      <td>0</td>\n",
       "      <td>0</td>\n",
       "      <td>0</td>\n",
       "      <td>0</td>\n",
       "      <td>1</td>\n",
       "      <td>...</td>\n",
       "      <td>0</td>\n",
       "      <td>0</td>\n",
       "      <td>0</td>\n",
       "      <td>0</td>\n",
       "      <td>0</td>\n",
       "      <td>0</td>\n",
       "      <td>0</td>\n",
       "      <td>1</td>\n",
       "      <td>0</td>\n",
       "      <td>0</td>\n",
       "    </tr>\n",
       "    <tr>\n",
       "      <th>3</th>\n",
       "      <td>54</td>\n",
       "      <td>10</td>\n",
       "      <td>0</td>\n",
       "      <td>0</td>\n",
       "      <td>40</td>\n",
       "      <td>0</td>\n",
       "      <td>0</td>\n",
       "      <td>0</td>\n",
       "      <td>0</td>\n",
       "      <td>1</td>\n",
       "      <td>...</td>\n",
       "      <td>0</td>\n",
       "      <td>0</td>\n",
       "      <td>0</td>\n",
       "      <td>0</td>\n",
       "      <td>0</td>\n",
       "      <td>0</td>\n",
       "      <td>0</td>\n",
       "      <td>1</td>\n",
       "      <td>0</td>\n",
       "      <td>0</td>\n",
       "    </tr>\n",
       "    <tr>\n",
       "      <th>4</th>\n",
       "      <td>41</td>\n",
       "      <td>10</td>\n",
       "      <td>0</td>\n",
       "      <td>0</td>\n",
       "      <td>40</td>\n",
       "      <td>0</td>\n",
       "      <td>0</td>\n",
       "      <td>0</td>\n",
       "      <td>0</td>\n",
       "      <td>1</td>\n",
       "      <td>...</td>\n",
       "      <td>0</td>\n",
       "      <td>0</td>\n",
       "      <td>0</td>\n",
       "      <td>0</td>\n",
       "      <td>0</td>\n",
       "      <td>0</td>\n",
       "      <td>0</td>\n",
       "      <td>1</td>\n",
       "      <td>0</td>\n",
       "      <td>0</td>\n",
       "    </tr>\n",
       "  </tbody>\n",
       "</table>\n",
       "<p>5 rows × 83 columns</p>\n",
       "</div>"
      ],
      "text/plain": [
       "   age  education.num  capital.gain  capital.loss  hours.per.week  income  \\\n",
       "0   37              9             0             0              40       0   \n",
       "1   37              9             0             0              40       0   \n",
       "2   66             10             0             0              40       0   \n",
       "3   54             10             0             0              40       0   \n",
       "4   41             10             0             0              40       0   \n",
       "\n",
       "   workclass_Federal-gov  workclass_Local-gov  workclass_Never-worked  \\\n",
       "0                      0                    0                       0   \n",
       "1                      0                    0                       0   \n",
       "2                      0                    0                       0   \n",
       "3                      0                    0                       0   \n",
       "4                      0                    0                       0   \n",
       "\n",
       "   workclass_Private  ...  native.country_Portugal  \\\n",
       "0                  1  ...                        0   \n",
       "1                  1  ...                        0   \n",
       "2                  1  ...                        0   \n",
       "3                  1  ...                        0   \n",
       "4                  1  ...                        0   \n",
       "\n",
       "   native.country_Puerto-Rico  native.country_Scotland  native.country_South  \\\n",
       "0                           0                        0                     0   \n",
       "1                           0                        0                     0   \n",
       "2                           0                        0                     0   \n",
       "3                           0                        0                     0   \n",
       "4                           0                        0                     0   \n",
       "\n",
       "   native.country_Taiwan  native.country_Thailand  \\\n",
       "0                      0                        0   \n",
       "1                      0                        0   \n",
       "2                      0                        0   \n",
       "3                      0                        0   \n",
       "4                      0                        0   \n",
       "\n",
       "   native.country_Trinadad&Tobago  native.country_United-States  \\\n",
       "0                               0                             1   \n",
       "1                               0                             1   \n",
       "2                               0                             1   \n",
       "3                               0                             1   \n",
       "4                               0                             1   \n",
       "\n",
       "   native.country_Vietnam  native.country_Yugoslavia  \n",
       "0                       0                          0  \n",
       "1                       0                          0  \n",
       "2                       0                          0  \n",
       "3                       0                          0  \n",
       "4                       0                          0  \n",
       "\n",
       "[5 rows x 83 columns]"
      ]
     },
     "execution_count": 136,
     "metadata": {},
     "output_type": "execute_result"
    }
   ],
   "source": [
    "df.head()"
   ]
  },
  {
   "cell_type": "code",
   "execution_count": null,
   "id": "7ce6862f-3257-41a5-adb5-c6de07a4b4d0",
   "metadata": {},
   "outputs": [],
   "source": []
  },
  {
   "cell_type": "code",
   "execution_count": 137,
   "id": "f279c7b5-cbed-4ad6-ae48-76be99ee4616",
   "metadata": {},
   "outputs": [
    {
     "data": {
      "text/plain": [
       "Index([], dtype='object')"
      ]
     },
     "execution_count": 137,
     "metadata": {},
     "output_type": "execute_result"
    }
   ],
   "source": [
    "df.select_dtypes(['object']).columns  # hence no categorical variable are present"
   ]
  },
  {
   "cell_type": "code",
   "execution_count": 138,
   "id": "daf1936c-aeb5-4963-80fe-c3f03cd084d8",
   "metadata": {},
   "outputs": [
    {
     "data": {
      "text/plain": [
       "0    24720\n",
       "1     7841\n",
       "Name: income, dtype: int64"
      ]
     },
     "execution_count": 138,
     "metadata": {},
     "output_type": "execute_result"
    }
   ],
   "source": [
    "df.income.value_counts()"
   ]
  },
  {
   "cell_type": "markdown",
   "id": "892aa516-4ef4-45a2-af83-9e6003246333",
   "metadata": {},
   "source": [
    "#### some rules\n",
    "##### Accuracy : higher the accuracy better the model\n",
    "##### TPR(recalll) : higher the recall better the model\n",
    "##### FPR lower the fpr better the model\n",
    "##### Precision : higher the precision better the model\n",
    "##### F1 : Higher the F! better the model"
   ]
  },
  {
   "cell_type": "code",
   "execution_count": 139,
   "id": "50699f4b-63d3-43d5-a6d8-630d9b446ca2",
   "metadata": {},
   "outputs": [
    {
     "data": {
      "text/plain": [
       "0    24720\n",
       "1     7841\n",
       "Name: income, dtype: int64"
      ]
     },
     "execution_count": 139,
     "metadata": {},
     "output_type": "execute_result"
    }
   ],
   "source": [
    "df['income'].value_counts()"
   ]
  },
  {
   "cell_type": "markdown",
   "id": "b8523df2-ee46-485c-b82c-0f6d532331bd",
   "metadata": {},
   "source": [
    "The class distribution is then summarized, confirming a modest class imbalance with approximately 75 percent for the majority class (<=50K)\n",
    "\n",
    "and approximately 25 percent for the minority class (>50K). we need to balanced the data so the accuracy would not be baised."
   ]
  },
  {
   "cell_type": "code",
   "execution_count": 140,
   "id": "dd8d0931-6327-4a3f-9427-529f77907c22",
   "metadata": {},
   "outputs": [],
   "source": [
    "# we should apply straified sampling\n",
    "from sklearn.model_selection import train_test_split\n",
    "stratified_x = df.drop(['income'] , axis = 1)\n",
    "stratified_y = df.iloc[:,[5]]\n",
    "train_X , test_X , train_y , test_y = train_test_split(stratified_x ,stratified_y , test_size=0.20 , stratify=stratified_y,random_state = 0)"
   ]
  },
  {
   "cell_type": "code",
   "execution_count": 141,
   "id": "29b55606-0166-4912-9147-cfb0e18f6889",
   "metadata": {},
   "outputs": [
    {
     "data": {
      "text/plain": [
       "(26048, 82)"
      ]
     },
     "execution_count": 141,
     "metadata": {},
     "output_type": "execute_result"
    }
   ],
   "source": [
    "train_X.shape"
   ]
  },
  {
   "cell_type": "code",
   "execution_count": 142,
   "id": "62d5613d-e435-430f-bc5e-6f28bb2f6072",
   "metadata": {},
   "outputs": [
    {
     "data": {
      "text/plain": [
       "(6513, 1)"
      ]
     },
     "execution_count": 142,
     "metadata": {},
     "output_type": "execute_result"
    }
   ],
   "source": [
    "test_y.shape"
   ]
  },
  {
   "cell_type": "code",
   "execution_count": 143,
   "id": "cbfa4efc-a7fa-444e-bb85-72a1508323ae",
   "metadata": {},
   "outputs": [],
   "source": [
    "train_y = np.ravel(train_y, order='C')"
   ]
  },
  {
   "cell_type": "code",
   "execution_count": 144,
   "id": "1267613d-11a2-48a1-ae9f-3cb36cbcfc31",
   "metadata": {},
   "outputs": [
    {
     "data": {
      "text/plain": [
       "(26048,)"
      ]
     },
     "execution_count": 144,
     "metadata": {},
     "output_type": "execute_result"
    }
   ],
   "source": [
    "train_y.shape"
   ]
  },
  {
   "cell_type": "code",
   "execution_count": 145,
   "id": "64ff8103-a5df-4047-b7fb-cb093a0a765c",
   "metadata": {},
   "outputs": [
    {
     "data": {
      "text/html": [
       "<div>\n",
       "<style scoped>\n",
       "    .dataframe tbody tr th:only-of-type {\n",
       "        vertical-align: middle;\n",
       "    }\n",
       "\n",
       "    .dataframe tbody tr th {\n",
       "        vertical-align: top;\n",
       "    }\n",
       "\n",
       "    .dataframe thead th {\n",
       "        text-align: right;\n",
       "    }\n",
       "</style>\n",
       "<table border=\"1\" class=\"dataframe\">\n",
       "  <thead>\n",
       "    <tr style=\"text-align: right;\">\n",
       "      <th></th>\n",
       "      <th>age</th>\n",
       "      <th>education.num</th>\n",
       "      <th>capital.gain</th>\n",
       "      <th>capital.loss</th>\n",
       "      <th>hours.per.week</th>\n",
       "      <th>workclass_Federal-gov</th>\n",
       "      <th>workclass_Local-gov</th>\n",
       "      <th>workclass_Never-worked</th>\n",
       "      <th>workclass_Private</th>\n",
       "      <th>workclass_Self-emp-inc</th>\n",
       "      <th>...</th>\n",
       "      <th>native.country_Portugal</th>\n",
       "      <th>native.country_Puerto-Rico</th>\n",
       "      <th>native.country_Scotland</th>\n",
       "      <th>native.country_South</th>\n",
       "      <th>native.country_Taiwan</th>\n",
       "      <th>native.country_Thailand</th>\n",
       "      <th>native.country_Trinadad&amp;Tobago</th>\n",
       "      <th>native.country_United-States</th>\n",
       "      <th>native.country_Vietnam</th>\n",
       "      <th>native.country_Yugoslavia</th>\n",
       "    </tr>\n",
       "  </thead>\n",
       "  <tbody>\n",
       "    <tr>\n",
       "      <th>29335</th>\n",
       "      <td>55</td>\n",
       "      <td>10</td>\n",
       "      <td>0</td>\n",
       "      <td>0</td>\n",
       "      <td>40</td>\n",
       "      <td>0</td>\n",
       "      <td>0</td>\n",
       "      <td>0</td>\n",
       "      <td>1</td>\n",
       "      <td>0</td>\n",
       "      <td>...</td>\n",
       "      <td>0</td>\n",
       "      <td>0</td>\n",
       "      <td>0</td>\n",
       "      <td>0</td>\n",
       "      <td>0</td>\n",
       "      <td>0</td>\n",
       "      <td>0</td>\n",
       "      <td>1</td>\n",
       "      <td>0</td>\n",
       "      <td>0</td>\n",
       "    </tr>\n",
       "    <tr>\n",
       "      <th>12007</th>\n",
       "      <td>46</td>\n",
       "      <td>9</td>\n",
       "      <td>0</td>\n",
       "      <td>0</td>\n",
       "      <td>40</td>\n",
       "      <td>0</td>\n",
       "      <td>0</td>\n",
       "      <td>0</td>\n",
       "      <td>1</td>\n",
       "      <td>0</td>\n",
       "      <td>...</td>\n",
       "      <td>0</td>\n",
       "      <td>0</td>\n",
       "      <td>0</td>\n",
       "      <td>0</td>\n",
       "      <td>0</td>\n",
       "      <td>0</td>\n",
       "      <td>0</td>\n",
       "      <td>1</td>\n",
       "      <td>0</td>\n",
       "      <td>0</td>\n",
       "    </tr>\n",
       "    <tr>\n",
       "      <th>10864</th>\n",
       "      <td>20</td>\n",
       "      <td>10</td>\n",
       "      <td>0</td>\n",
       "      <td>0</td>\n",
       "      <td>40</td>\n",
       "      <td>0</td>\n",
       "      <td>0</td>\n",
       "      <td>0</td>\n",
       "      <td>1</td>\n",
       "      <td>0</td>\n",
       "      <td>...</td>\n",
       "      <td>0</td>\n",
       "      <td>0</td>\n",
       "      <td>0</td>\n",
       "      <td>0</td>\n",
       "      <td>0</td>\n",
       "      <td>0</td>\n",
       "      <td>0</td>\n",
       "      <td>1</td>\n",
       "      <td>0</td>\n",
       "      <td>0</td>\n",
       "    </tr>\n",
       "    <tr>\n",
       "      <th>3762</th>\n",
       "      <td>40</td>\n",
       "      <td>13</td>\n",
       "      <td>0</td>\n",
       "      <td>0</td>\n",
       "      <td>40</td>\n",
       "      <td>0</td>\n",
       "      <td>0</td>\n",
       "      <td>0</td>\n",
       "      <td>1</td>\n",
       "      <td>0</td>\n",
       "      <td>...</td>\n",
       "      <td>0</td>\n",
       "      <td>0</td>\n",
       "      <td>0</td>\n",
       "      <td>0</td>\n",
       "      <td>0</td>\n",
       "      <td>0</td>\n",
       "      <td>0</td>\n",
       "      <td>1</td>\n",
       "      <td>0</td>\n",
       "      <td>0</td>\n",
       "    </tr>\n",
       "    <tr>\n",
       "      <th>12086</th>\n",
       "      <td>30</td>\n",
       "      <td>6</td>\n",
       "      <td>0</td>\n",
       "      <td>0</td>\n",
       "      <td>40</td>\n",
       "      <td>0</td>\n",
       "      <td>0</td>\n",
       "      <td>0</td>\n",
       "      <td>0</td>\n",
       "      <td>0</td>\n",
       "      <td>...</td>\n",
       "      <td>0</td>\n",
       "      <td>0</td>\n",
       "      <td>0</td>\n",
       "      <td>0</td>\n",
       "      <td>0</td>\n",
       "      <td>0</td>\n",
       "      <td>0</td>\n",
       "      <td>1</td>\n",
       "      <td>0</td>\n",
       "      <td>0</td>\n",
       "    </tr>\n",
       "  </tbody>\n",
       "</table>\n",
       "<p>5 rows × 82 columns</p>\n",
       "</div>"
      ],
      "text/plain": [
       "       age  education.num  capital.gain  capital.loss  hours.per.week  \\\n",
       "29335   55             10             0             0              40   \n",
       "12007   46              9             0             0              40   \n",
       "10864   20             10             0             0              40   \n",
       "3762    40             13             0             0              40   \n",
       "12086   30              6             0             0              40   \n",
       "\n",
       "       workclass_Federal-gov  workclass_Local-gov  workclass_Never-worked  \\\n",
       "29335                      0                    0                       0   \n",
       "12007                      0                    0                       0   \n",
       "10864                      0                    0                       0   \n",
       "3762                       0                    0                       0   \n",
       "12086                      0                    0                       0   \n",
       "\n",
       "       workclass_Private  workclass_Self-emp-inc  ...  \\\n",
       "29335                  1                       0  ...   \n",
       "12007                  1                       0  ...   \n",
       "10864                  1                       0  ...   \n",
       "3762                   1                       0  ...   \n",
       "12086                  0                       0  ...   \n",
       "\n",
       "       native.country_Portugal  native.country_Puerto-Rico  \\\n",
       "29335                        0                           0   \n",
       "12007                        0                           0   \n",
       "10864                        0                           0   \n",
       "3762                         0                           0   \n",
       "12086                        0                           0   \n",
       "\n",
       "       native.country_Scotland  native.country_South  native.country_Taiwan  \\\n",
       "29335                        0                     0                      0   \n",
       "12007                        0                     0                      0   \n",
       "10864                        0                     0                      0   \n",
       "3762                         0                     0                      0   \n",
       "12086                        0                     0                      0   \n",
       "\n",
       "       native.country_Thailand  native.country_Trinadad&Tobago  \\\n",
       "29335                        0                               0   \n",
       "12007                        0                               0   \n",
       "10864                        0                               0   \n",
       "3762                         0                               0   \n",
       "12086                        0                               0   \n",
       "\n",
       "       native.country_United-States  native.country_Vietnam  \\\n",
       "29335                             1                       0   \n",
       "12007                             1                       0   \n",
       "10864                             1                       0   \n",
       "3762                              1                       0   \n",
       "12086                             1                       0   \n",
       "\n",
       "       native.country_Yugoslavia  \n",
       "29335                          0  \n",
       "12007                          0  \n",
       "10864                          0  \n",
       "3762                           0  \n",
       "12086                          0  \n",
       "\n",
       "[5 rows x 82 columns]"
      ]
     },
     "execution_count": 145,
     "metadata": {},
     "output_type": "execute_result"
    }
   ],
   "source": [
    "train_X.head()"
   ]
  },
  {
   "cell_type": "code",
   "execution_count": 146,
   "id": "e0325c07-e932-4c09-961d-7eae6e0c9493",
   "metadata": {},
   "outputs": [],
   "source": [
    "from sklearn.preprocessing import StandardScaler\n",
    "scaler = StandardScaler()\n",
    "train_X = scaler.fit_transform(train_X)\n",
    "test_X = scaler.fit_transform(test_X)"
   ]
  },
  {
   "cell_type": "code",
   "execution_count": 147,
   "id": "7d301337-5d22-4475-b293-1f493fcc2d79",
   "metadata": {},
   "outputs": [
    {
     "data": {
      "text/plain": [
       "0.981536873554092"
      ]
     },
     "execution_count": 147,
     "metadata": {},
     "output_type": "execute_result"
    }
   ],
   "source": [
    "train_X.std()"
   ]
  },
  {
   "cell_type": "code",
   "execution_count": 148,
   "id": "0d712c43-9050-4327-9885-7730a49436b0",
   "metadata": {},
   "outputs": [
    {
     "data": {
      "text/plain": [
       "-2.8874980085534725e-18"
      ]
     },
     "execution_count": 148,
     "metadata": {},
     "output_type": "execute_result"
    }
   ],
   "source": [
    "train_X.mean()"
   ]
  },
  {
   "cell_type": "code",
   "execution_count": 149,
   "id": "78f58af3-6cfc-4804-9647-05314467cacb",
   "metadata": {},
   "outputs": [
    {
     "data": {
      "text/plain": [
       "0.9815368735540918"
      ]
     },
     "execution_count": 149,
     "metadata": {},
     "output_type": "execute_result"
    }
   ],
   "source": [
    "test_X.std()"
   ]
  },
  {
   "cell_type": "code",
   "execution_count": 150,
   "id": "11f34240-f089-4fbc-87b0-201baa49786e",
   "metadata": {},
   "outputs": [
    {
     "data": {
      "text/plain": [
       "7.184375663503276e-19"
      ]
     },
     "execution_count": 150,
     "metadata": {},
     "output_type": "execute_result"
    }
   ],
   "source": [
    "test_X.mean()"
   ]
  },
  {
   "cell_type": "code",
   "execution_count": 151,
   "id": "45b3f13b-32c8-4afb-92bb-e0e93fed2e6d",
   "metadata": {},
   "outputs": [],
   "source": [
    "#### std = 1 and mean = 0 it means my data is succefully standardised "
   ]
  },
  {
   "cell_type": "markdown",
   "id": "861a0371-c0ba-4813-b4ab-15d3a5774500",
   "metadata": {},
   "source": [
    "## Logistic Regression"
   ]
  },
  {
   "cell_type": "code",
   "execution_count": null,
   "id": "0085d12d-971a-413e-8c6e-d8193793b824",
   "metadata": {},
   "outputs": [],
   "source": []
  },
  {
   "cell_type": "code",
   "execution_count": 152,
   "id": "49a40f70-cc3c-456a-908e-edd461b57b79",
   "metadata": {},
   "outputs": [
    {
     "data": {
      "text/plain": [
       "LogisticRegression()"
      ]
     },
     "execution_count": 152,
     "metadata": {},
     "output_type": "execute_result"
    }
   ],
   "source": [
    "from sklearn.linear_model import LogisticRegression\n",
    "lr = LogisticRegression()\n",
    "lr.fit(train_X , train_y)"
   ]
  },
  {
   "cell_type": "code",
   "execution_count": 153,
   "id": "ce18c022-efe1-4ad7-8b40-8e7a58e0baa7",
   "metadata": {},
   "outputs": [],
   "source": [
    "pred_y = lr.predict(test_X)"
   ]
  },
  {
   "cell_type": "code",
   "execution_count": 154,
   "id": "c5cb9fe8-2151-4291-9ac4-2c75e83fa968",
   "metadata": {},
   "outputs": [
    {
     "data": {
      "text/plain": [
       "array([[4558,  387],\n",
       "       [ 740,  828]], dtype=int64)"
      ]
     },
     "execution_count": 154,
     "metadata": {},
     "output_type": "execute_result"
    }
   ],
   "source": [
    "from sklearn.metrics import confusion_matrix , accuracy_score ,precision_score,roc_auc_score,f1_score,recall_score\n",
    "confusion_matrix(test_y , pred_y)"
   ]
  },
  {
   "cell_type": "code",
   "execution_count": 155,
   "id": "f09cf228-18a1-410e-847e-ad5524cb3d6d",
   "metadata": {},
   "outputs": [
    {
     "name": "stdout",
     "output_type": "stream",
     "text": [
      "accuracy : 0.8269614616920006\n",
      "precision: 0.6814814814814815\n",
      "roc_curve: 0.7249001774622892\n",
      "f1_score: 0.5950413223140496\n"
     ]
    }
   ],
   "source": [
    "w = accuracy_score(test_y , pred_y)\n",
    "x = precision_score(test_y , pred_y)\n",
    "y = roc_auc_score(test_y , pred_y)\n",
    "z = f1_score(test_y , pred_y)\n",
    "print('accuracy :',w)\n",
    "print('precision:',x)\n",
    "print('roc_curve:',y)\n",
    "print('f1_score:',z)"
   ]
  },
  {
   "cell_type": "code",
   "execution_count": 156,
   "id": "2cc52ebf-3406-434b-a77b-9bfecb1c48a2",
   "metadata": {},
   "outputs": [
    {
     "data": {
      "text/plain": [
       "0.7249001774622892"
      ]
     },
     "execution_count": 156,
     "metadata": {},
     "output_type": "execute_result"
    }
   ],
   "source": [
    "roc_auc_score(test_y , pred_y)"
   ]
  },
  {
   "cell_type": "code",
   "execution_count": 157,
   "id": "c8b7707d-1170-4261-926e-0e3733e19300",
   "metadata": {},
   "outputs": [
    {
     "data": {
      "text/plain": [
       "0.5167095115681234"
      ]
     },
     "execution_count": 157,
     "metadata": {},
     "output_type": "execute_result"
    }
   ],
   "source": [
    "fpr = 603/(603+564)\n",
    "fpr"
   ]
  },
  {
   "cell_type": "code",
   "execution_count": 158,
   "id": "af9af4d9-e9e2-49a9-a29e-14c2863d8a30",
   "metadata": {},
   "outputs": [
    {
     "name": "stdout",
     "output_type": "stream",
     "text": [
      "              precision    recall  f1-score   support\n",
      "\n",
      "           0       0.86      0.92      0.89      4945\n",
      "           1       0.68      0.53      0.60      1568\n",
      "\n",
      "    accuracy                           0.83      6513\n",
      "   macro avg       0.77      0.72      0.74      6513\n",
      "weighted avg       0.82      0.83      0.82      6513\n",
      "\n"
     ]
    },
    {
     "data": {
      "image/png": "[encoded data removed]",
      "text/plain": [
       "<Figure size 432x288 with 2 Axes>"
      ]
     },
     "metadata": {},
     "output_type": "display_data"
    }
   ],
   "source": [
    "from sklearn.metrics import classification_report\n",
    "print(classification_report(test_y , pred_y))\n",
    "sns.heatmap(confusion_matrix(test_y , pred_y),\n",
    "                annot=True,fmt = \"d\",linecolor=\"k\",linewidths=3)\n",
    "    \n",
    "plt.title(\"LOGISTIC REGRESSION CLASSIFIER CONFUSION MATRIX\",fontsize=14)\n",
    "plt.show()"
   ]
  },
  {
   "cell_type": "code",
   "execution_count": 159,
   "id": "cdce01f8-d045-4b40-bfa2-1c7030085d7d",
   "metadata": {
    "tags": []
   },
   "outputs": [
    {
     "name": "stderr",
     "output_type": "stream",
     "text": [
      "C:\\Users\\Asus\\anaconda3\\lib\\site-packages\\sklearn\\linear_model\\_sag.py:352: ConvergenceWarning: The max_iter was reached which means the coef_ did not converge\n",
      "  warnings.warn(\n",
      "C:\\Users\\Asus\\anaconda3\\lib\\site-packages\\sklearn\\linear_model\\_sag.py:352: ConvergenceWarning: The max_iter was reached which means the coef_ did not converge\n",
      "  warnings.warn(\n",
      "C:\\Users\\Asus\\anaconda3\\lib\\site-packages\\sklearn\\linear_model\\_sag.py:352: ConvergenceWarning: The max_iter was reached which means the coef_ did not converge\n",
      "  warnings.warn(\n",
      "C:\\Users\\Asus\\anaconda3\\lib\\site-packages\\sklearn\\linear_model\\_sag.py:352: ConvergenceWarning: The max_iter was reached which means the coef_ did not converge\n",
      "  warnings.warn(\n",
      "C:\\Users\\Asus\\anaconda3\\lib\\site-packages\\sklearn\\linear_model\\_sag.py:352: ConvergenceWarning: The max_iter was reached which means the coef_ did not converge\n",
      "  warnings.warn(\n",
      "C:\\Users\\Asus\\anaconda3\\lib\\site-packages\\sklearn\\linear_model\\_sag.py:352: ConvergenceWarning: The max_iter was reached which means the coef_ did not converge\n",
      "  warnings.warn(\n",
      "C:\\Users\\Asus\\anaconda3\\lib\\site-packages\\sklearn\\linear_model\\_sag.py:352: ConvergenceWarning: The max_iter was reached which means the coef_ did not converge\n",
      "  warnings.warn(\n",
      "C:\\Users\\Asus\\anaconda3\\lib\\site-packages\\sklearn\\linear_model\\_sag.py:352: ConvergenceWarning: The max_iter was reached which means the coef_ did not converge\n",
      "  warnings.warn(\n",
      "C:\\Users\\Asus\\anaconda3\\lib\\site-packages\\sklearn\\linear_model\\_sag.py:352: ConvergenceWarning: The max_iter was reached which means the coef_ did not converge\n",
      "  warnings.warn(\n",
      "C:\\Users\\Asus\\anaconda3\\lib\\site-packages\\sklearn\\linear_model\\_sag.py:352: ConvergenceWarning: The max_iter was reached which means the coef_ did not converge\n",
      "  warnings.warn(\n",
      "C:\\Users\\Asus\\anaconda3\\lib\\site-packages\\sklearn\\linear_model\\_sag.py:352: ConvergenceWarning: The max_iter was reached which means the coef_ did not converge\n",
      "  warnings.warn(\n",
      "C:\\Users\\Asus\\anaconda3\\lib\\site-packages\\sklearn\\linear_model\\_sag.py:352: ConvergenceWarning: The max_iter was reached which means the coef_ did not converge\n",
      "  warnings.warn(\n",
      "C:\\Users\\Asus\\anaconda3\\lib\\site-packages\\sklearn\\linear_model\\_sag.py:352: ConvergenceWarning: The max_iter was reached which means the coef_ did not converge\n",
      "  warnings.warn(\n",
      "C:\\Users\\Asus\\anaconda3\\lib\\site-packages\\sklearn\\linear_model\\_sag.py:352: ConvergenceWarning: The max_iter was reached which means the coef_ did not converge\n",
      "  warnings.warn(\n",
      "C:\\Users\\Asus\\anaconda3\\lib\\site-packages\\sklearn\\linear_model\\_sag.py:352: ConvergenceWarning: The max_iter was reached which means the coef_ did not converge\n",
      "  warnings.warn(\n",
      "C:\\Users\\Asus\\anaconda3\\lib\\site-packages\\sklearn\\model_selection\\_validation.py:372: FitFailedWarning: \n",
      "40 fits failed out of a total of 75.\n",
      "The score on these train-test partitions for these parameters will be set to nan.\n",
      "If these failures are not expected, you can try to debug them by setting error_score='raise'.\n",
      "\n",
      "Below are more details about the failures:\n",
      "--------------------------------------------------------------------------------\n",
      "5 fits failed with the following error:\n",
      "Traceback (most recent call last):\n",
      "  File \"C:\\Users\\Asus\\anaconda3\\lib\\site-packages\\sklearn\\model_selection\\_validation.py\", line 680, in _fit_and_score\n",
      "    estimator.fit(X_train, y_train, **fit_params)\n",
      "  File \"C:\\Users\\Asus\\anaconda3\\lib\\site-packages\\sklearn\\linear_model\\_logistic.py\", line 1461, in fit\n",
      "    solver = _check_solver(self.solver, self.penalty, self.dual)\n",
      "  File \"C:\\Users\\Asus\\anaconda3\\lib\\site-packages\\sklearn\\linear_model\\_logistic.py\", line 447, in _check_solver\n",
      "    raise ValueError(\n",
      "ValueError: Solver newton-cg supports only 'l2' or 'none' penalties, got elasticnet penalty.\n",
      "\n",
      "--------------------------------------------------------------------------------\n",
      "5 fits failed with the following error:\n",
      "Traceback (most recent call last):\n",
      "  File \"C:\\Users\\Asus\\anaconda3\\lib\\site-packages\\sklearn\\model_selection\\_validation.py\", line 680, in _fit_and_score\n",
      "    estimator.fit(X_train, y_train, **fit_params)\n",
      "  File \"C:\\Users\\Asus\\anaconda3\\lib\\site-packages\\sklearn\\linear_model\\_logistic.py\", line 1461, in fit\n",
      "    solver = _check_solver(self.solver, self.penalty, self.dual)\n",
      "  File \"C:\\Users\\Asus\\anaconda3\\lib\\site-packages\\sklearn\\linear_model\\_logistic.py\", line 447, in _check_solver\n",
      "    raise ValueError(\n",
      "ValueError: Solver lbfgs supports only 'l2' or 'none' penalties, got elasticnet penalty.\n",
      "\n",
      "--------------------------------------------------------------------------------\n",
      "5 fits failed with the following error:\n",
      "Traceback (most recent call last):\n",
      "  File \"C:\\Users\\Asus\\anaconda3\\lib\\site-packages\\sklearn\\model_selection\\_validation.py\", line 680, in _fit_and_score\n",
      "    estimator.fit(X_train, y_train, **fit_params)\n",
      "  File \"C:\\Users\\Asus\\anaconda3\\lib\\site-packages\\sklearn\\linear_model\\_logistic.py\", line 1461, in fit\n",
      "    solver = _check_solver(self.solver, self.penalty, self.dual)\n",
      "  File \"C:\\Users\\Asus\\anaconda3\\lib\\site-packages\\sklearn\\linear_model\\_logistic.py\", line 457, in _check_solver\n",
      "    raise ValueError(\n",
      "ValueError: Only 'saga' solver supports elasticnet penalty, got solver=liblinear.\n",
      "\n",
      "--------------------------------------------------------------------------------\n",
      "5 fits failed with the following error:\n",
      "Traceback (most recent call last):\n",
      "  File \"C:\\Users\\Asus\\anaconda3\\lib\\site-packages\\sklearn\\model_selection\\_validation.py\", line 680, in _fit_and_score\n",
      "    estimator.fit(X_train, y_train, **fit_params)\n",
      "  File \"C:\\Users\\Asus\\anaconda3\\lib\\site-packages\\sklearn\\linear_model\\_logistic.py\", line 1461, in fit\n",
      "    solver = _check_solver(self.solver, self.penalty, self.dual)\n",
      "  File \"C:\\Users\\Asus\\anaconda3\\lib\\site-packages\\sklearn\\linear_model\\_logistic.py\", line 447, in _check_solver\n",
      "    raise ValueError(\n",
      "ValueError: Solver sag supports only 'l2' or 'none' penalties, got elasticnet penalty.\n",
      "\n",
      "--------------------------------------------------------------------------------\n",
      "5 fits failed with the following error:\n",
      "Traceback (most recent call last):\n",
      "  File \"C:\\Users\\Asus\\anaconda3\\lib\\site-packages\\sklearn\\model_selection\\_validation.py\", line 680, in _fit_and_score\n",
      "    estimator.fit(X_train, y_train, **fit_params)\n",
      "  File \"C:\\Users\\Asus\\anaconda3\\lib\\site-packages\\sklearn\\linear_model\\_logistic.py\", line 1471, in fit\n",
      "    raise ValueError(\n",
      "ValueError: l1_ratio must be between 0 and 1; got (l1_ratio=None)\n",
      "\n",
      "--------------------------------------------------------------------------------\n",
      "5 fits failed with the following error:\n",
      "Traceback (most recent call last):\n",
      "  File \"C:\\Users\\Asus\\anaconda3\\lib\\site-packages\\sklearn\\model_selection\\_validation.py\", line 680, in _fit_and_score\n",
      "    estimator.fit(X_train, y_train, **fit_params)\n",
      "  File \"C:\\Users\\Asus\\anaconda3\\lib\\site-packages\\sklearn\\linear_model\\_logistic.py\", line 1461, in fit\n",
      "    solver = _check_solver(self.solver, self.penalty, self.dual)\n",
      "  File \"C:\\Users\\Asus\\anaconda3\\lib\\site-packages\\sklearn\\linear_model\\_logistic.py\", line 447, in _check_solver\n",
      "    raise ValueError(\n",
      "ValueError: Solver newton-cg supports only 'l2' or 'none' penalties, got l1 penalty.\n",
      "\n",
      "--------------------------------------------------------------------------------\n",
      "5 fits failed with the following error:\n",
      "Traceback (most recent call last):\n",
      "  File \"C:\\Users\\Asus\\anaconda3\\lib\\site-packages\\sklearn\\model_selection\\_validation.py\", line 680, in _fit_and_score\n",
      "    estimator.fit(X_train, y_train, **fit_params)\n",
      "  File \"C:\\Users\\Asus\\anaconda3\\lib\\site-packages\\sklearn\\linear_model\\_logistic.py\", line 1461, in fit\n",
      "    solver = _check_solver(self.solver, self.penalty, self.dual)\n",
      "  File \"C:\\Users\\Asus\\anaconda3\\lib\\site-packages\\sklearn\\linear_model\\_logistic.py\", line 447, in _check_solver\n",
      "    raise ValueError(\n",
      "ValueError: Solver lbfgs supports only 'l2' or 'none' penalties, got l1 penalty.\n",
      "\n",
      "--------------------------------------------------------------------------------\n",
      "5 fits failed with the following error:\n",
      "Traceback (most recent call last):\n",
      "  File \"C:\\Users\\Asus\\anaconda3\\lib\\site-packages\\sklearn\\model_selection\\_validation.py\", line 680, in _fit_and_score\n",
      "    estimator.fit(X_train, y_train, **fit_params)\n",
      "  File \"C:\\Users\\Asus\\anaconda3\\lib\\site-packages\\sklearn\\linear_model\\_logistic.py\", line 1461, in fit\n",
      "    solver = _check_solver(self.solver, self.penalty, self.dual)\n",
      "  File \"C:\\Users\\Asus\\anaconda3\\lib\\site-packages\\sklearn\\linear_model\\_logistic.py\", line 447, in _check_solver\n",
      "    raise ValueError(\n",
      "ValueError: Solver sag supports only 'l2' or 'none' penalties, got l1 penalty.\n",
      "\n",
      "  warnings.warn(some_fits_failed_message, FitFailedWarning)\n",
      "C:\\Users\\Asus\\anaconda3\\lib\\site-packages\\sklearn\\model_selection\\_search.py:969: UserWarning: One or more of the test scores are non-finite: [       nan        nan        nan        nan        nan        nan\n",
      "        nan 0.82847043        nan 0.82843204 0.82835526 0.82835526\n",
      " 0.82839366 0.82835526 0.82835526]\n",
      "  warnings.warn(\n"
     ]
    }
   ],
   "source": [
    "# CV of logisitic regression\n",
    "lr_grid={'solver' :['newton-cg', 'lbfgs', 'liblinear', 'sag', 'saga'],\n",
    "        'penalty':['elasticnet', 'l1', 'l2']  }\n",
    "from sklearn.model_selection import GridSearchCV\n",
    "grid_lr = GridSearchCV(lr , lr_grid)\n",
    "grid_lr.fit(train_X , train_y);"
   ]
  },
  {
   "cell_type": "code",
   "execution_count": 160,
   "id": "b24c0572-605d-4e22-9e05-9a0900988b13",
   "metadata": {},
   "outputs": [
    {
     "data": {
      "text/plain": [
       "{'penalty': 'l1', 'solver': 'liblinear'}"
      ]
     },
     "execution_count": 160,
     "metadata": {},
     "output_type": "execute_result"
    }
   ],
   "source": [
    "grid_lr.best_params_"
   ]
  },
  {
   "cell_type": "code",
   "execution_count": 161,
   "id": "6c42c6e1-6b40-4f8a-8b90-e6fed1528d3f",
   "metadata": {},
   "outputs": [
    {
     "name": "stderr",
     "output_type": "stream",
     "text": [
      "C:\\Users\\Asus\\anaconda3\\lib\\site-packages\\sklearn\\linear_model\\_sag.py:352: ConvergenceWarning: The max_iter was reached which means the coef_ did not converge\n",
      "  warnings.warn(\n"
     ]
    },
    {
     "data": {
      "text/plain": [
       "array([[4557,  388],\n",
       "       [ 740,  828]], dtype=int64)"
      ]
     },
     "execution_count": 161,
     "metadata": {},
     "output_type": "execute_result"
    }
   ],
   "source": [
    "lr = LogisticRegression(penalty =  'l1', solver = 'liblinear')\n",
    "lr.fit(train_X, train_y)\n",
    "pred_y = lr.predict(test_X)\n",
    "confusion_matrix(test_y , pred_y)"
   ]
  },
  {
   "cell_type": "code",
   "execution_count": 162,
   "id": "04ef5bd9-3994-430b-adad-f62d62b3868a",
   "metadata": {},
   "outputs": [
    {
     "name": "stdout",
     "output_type": "stream",
     "text": [
      "0.8268079226163059\n",
      "0.680921052631579\n"
     ]
    }
   ],
   "source": [
    "print(accuracy_score(test_y , pred_y))\n",
    "print(precision_score(test_y , pred_y))"
   ]
  },
  {
   "cell_type": "code",
   "execution_count": 163,
   "id": "1dc3c6b2-f2f5-4aee-92b8-adb62f337fcd",
   "metadata": {},
   "outputs": [
    {
     "name": "stdout",
     "output_type": "stream",
     "text": [
      "              precision    recall  f1-score   support\n",
      "\n",
      "           0       0.86      0.92      0.89      4945\n",
      "           1       0.68      0.53      0.59      1568\n",
      "\n",
      "    accuracy                           0.83      6513\n",
      "   macro avg       0.77      0.72      0.74      6513\n",
      "weighted avg       0.82      0.83      0.82      6513\n",
      "\n"
     ]
    },
    {
     "data": {
      "image/png": "[encoded data removed]",
      "text/plain": [
       "<Figure size 432x288 with 2 Axes>"
      ]
     },
     "metadata": {},
     "output_type": "display_data"
    }
   ],
   "source": [
    "from sklearn.metrics import classification_report\n",
    "print(classification_report(test_y , pred_y))\n",
    "sns.heatmap(confusion_matrix(test_y , pred_y),\n",
    "                annot=True,fmt = \"d\",linecolor=\"k\",linewidths=3)\n",
    "    \n",
    "plt.title(\"LOGISTIC REGRESSION CLASSIFIER CONFUSION MATRIX\",fontsize=14)\n",
    "plt.show()"
   ]
  },
  {
   "cell_type": "code",
   "execution_count": null,
   "id": "266d59e4-a3af-421a-8b6e-21b548f9d383",
   "metadata": {},
   "outputs": [],
   "source": []
  },
  {
   "cell_type": "markdown",
   "id": "99b2d90c-8103-496a-956b-ee456597caec",
   "metadata": {},
   "source": [
    "## KNN Classifier"
   ]
  },
  {
   "cell_type": "code",
   "execution_count": 164,
   "id": "8dbbd539-760b-4ed2-be01-19617bdb1523",
   "metadata": {},
   "outputs": [],
   "source": [
    "from sklearn.neighbors import KNeighborsClassifier\n",
    "knn=KNeighborsClassifier()\n",
    "knn.fit(train_X , train_y)\n",
    "pred_y = knn.predict(test_X)"
   ]
  },
  {
   "cell_type": "code",
   "execution_count": 165,
   "id": "e01d4dea-eb9d-46be-811b-70b094a2ac70",
   "metadata": {},
   "outputs": [
    {
     "data": {
      "text/plain": [
       "array([[4445,  500],\n",
       "       [ 696,  872]], dtype=int64)"
      ]
     },
     "execution_count": 165,
     "metadata": {},
     "output_type": "execute_result"
    }
   ],
   "source": [
    "confusion_matrix(test_y , pred_y)"
   ]
  },
  {
   "cell_type": "code",
   "execution_count": 166,
   "id": "7a407b51-3326-4760-8b97-838b0dcb3b89",
   "metadata": {},
   "outputs": [
    {
     "data": {
      "text/plain": [
       "0.8163672654690619"
      ]
     },
     "execution_count": 166,
     "metadata": {},
     "output_type": "execute_result"
    }
   ],
   "source": [
    "accuracy_score(test_y , pred_y)"
   ]
  },
  {
   "cell_type": "code",
   "execution_count": 167,
   "id": "a5f23d58-6529-4d48-a078-a3ead8c66754",
   "metadata": {},
   "outputs": [
    {
     "name": "stdout",
     "output_type": "stream",
     "text": [
      "accuracy : 0.8163672654690619\n",
      "precision: 0.6355685131195336\n",
      "roc_curve: 0.7275051071996038\n",
      "f1_score: 0.5931972789115647\n"
     ]
    }
   ],
   "source": [
    "w = accuracy_score(test_y , pred_y)\n",
    "x = precision_score(test_y , pred_y)\n",
    "y = roc_auc_score(test_y , pred_y)\n",
    "z = f1_score(test_y , pred_y)\n",
    "print('accuracy :',w)\n",
    "print('precision:',x)\n",
    "print('roc_curve:',y)\n",
    "print('f1_score:',z)"
   ]
  },
  {
   "cell_type": "code",
   "execution_count": 168,
   "id": "282fc012-bcce-4190-8c4c-ac1363f09998",
   "metadata": {},
   "outputs": [
    {
     "name": "stdout",
     "output_type": "stream",
     "text": [
      "              precision    recall  f1-score   support\n",
      "\n",
      "           0       0.86      0.90      0.88      4945\n",
      "           1       0.64      0.56      0.59      1568\n",
      "\n",
      "    accuracy                           0.82      6513\n",
      "   macro avg       0.75      0.73      0.74      6513\n",
      "weighted avg       0.81      0.82      0.81      6513\n",
      "\n"
     ]
    },
    {
     "data": {
      "image/png": "[encoded data removed]",
      "text/plain": [
       "<Figure size 432x288 with 2 Axes>"
      ]
     },
     "metadata": {},
     "output_type": "display_data"
    }
   ],
   "source": [
    "from sklearn.metrics import classification_report\n",
    "print(classification_report(test_y , pred_y))\n",
    "sns.heatmap(confusion_matrix(test_y , pred_y),\n",
    "                annot=True,fmt = \"d\",linecolor=\"k\",linewidths=3)\n",
    "    \n",
    "plt.title(\"KNN CLASSIFIER CONFUSION MATRIX\",fontsize=14)\n",
    "plt.show()"
   ]
  },
  {
   "cell_type": "code",
   "execution_count": 169,
   "id": "539066d0-ec85-45b1-917f-7df79b85a4b4",
   "metadata": {
    "tags": []
   },
   "outputs": [
    {
     "data": {
      "text/plain": [
       "{'n_neighbors': 51}"
      ]
     },
     "execution_count": 169,
     "metadata": {},
     "output_type": "execute_result"
    }
   ],
   "source": [
    "# Cross Validation\n",
    "parameter_dict={'n_neighbors':[1,11,21,31,41,51,75,101]}\n",
    "from sklearn.model_selection import GridSearchCV\n",
    "grid_df=GridSearchCV(knn,param_grid=parameter_dict)\n",
    "grid_df.fit(train_X , train_y)\n",
    "grid_df.best_params_"
   ]
  },
  {
   "cell_type": "code",
   "execution_count": 170,
   "id": "291ca63f-0863-4752-aa80-9e4f5467c248",
   "metadata": {},
   "outputs": [
    {
     "name": "stdout",
     "output_type": "stream",
     "text": [
      "Confusion : [[4578  367]\n",
      " [ 717  851]]\n",
      "accuracy : 0.8335636419468755\n",
      "precision: 0.6986863711001642\n",
      "roc_curve: 0.7342566058273664\n",
      "f1_score: 0.6109117013639627\n"
     ]
    }
   ],
   "source": [
    "knn=KNeighborsClassifier(n_neighbors=41,weights='distance')\n",
    "knn.fit(train_X , train_y)\n",
    "pred_y = knn.predict(test_X)\n",
    "a = confusion_matrix(test_y , pred_y)\n",
    "w = accuracy_score(test_y , pred_y)\n",
    "x = precision_score(test_y , pred_y)\n",
    "y = roc_auc_score(test_y , pred_y)\n",
    "z = f1_score(test_y , pred_y)\n",
    "print('Confusion :',a)\n",
    "print('accuracy :',w)\n",
    "print('precision:',x)\n",
    "print('roc_curve:',y)\n",
    "print('f1_score:',z)"
   ]
  },
  {
   "cell_type": "code",
   "execution_count": 171,
   "id": "a47c2750-6302-4c3a-bac2-399ee693811b",
   "metadata": {},
   "outputs": [
    {
     "name": "stdout",
     "output_type": "stream",
     "text": [
      "              precision    recall  f1-score   support\n",
      "\n",
      "           0       0.86      0.93      0.89      4945\n",
      "           1       0.70      0.54      0.61      1568\n",
      "\n",
      "    accuracy                           0.83      6513\n",
      "   macro avg       0.78      0.73      0.75      6513\n",
      "weighted avg       0.82      0.83      0.83      6513\n",
      "\n"
     ]
    },
    {
     "data": {
      "image/png": "[encoded data removed]",
      "text/plain": [
       "<Figure size 432x288 with 2 Axes>"
      ]
     },
     "metadata": {},
     "output_type": "display_data"
    }
   ],
   "source": [
    "from sklearn.metrics import classification_report\n",
    "print(classification_report(test_y , pred_y))\n",
    "sns.heatmap(confusion_matrix(test_y , pred_y),\n",
    "                annot=True,fmt = \"d\",linecolor=\"k\",linewidths=3)\n",
    "    \n",
    "plt.title(\"KNN CLASSIFIER CONFUSION MATRIX\",fontsize=14)\n",
    "plt.show()"
   ]
  },
  {
   "cell_type": "markdown",
   "id": "eb723dd4-35d0-4de4-8568-657dc823b886",
   "metadata": {},
   "source": [
    "## Decision Tree "
   ]
  },
  {
   "cell_type": "code",
   "execution_count": 172,
   "id": "4133bc94-0ee4-4469-af87-4d23a26981d6",
   "metadata": {},
   "outputs": [
    {
     "data": {
      "text/plain": [
       "array([[4322,  623],\n",
       "       [ 755,  813]], dtype=int64)"
      ]
     },
     "execution_count": 172,
     "metadata": {},
     "output_type": "execute_result"
    }
   ],
   "source": [
    "from sklearn.tree import DecisionTreeClassifier\n",
    "dt=DecisionTreeClassifier()\n",
    "dt.fit(train_X , train_y)\n",
    "pred_y=dt.predict(test_X)\n",
    "confusion_matrix(test_y , pred_y)"
   ]
  },
  {
   "cell_type": "code",
   "execution_count": 173,
   "id": "4b30f2b4-f1cf-4baf-b4fa-f415632b5072",
   "metadata": {},
   "outputs": [
    {
     "data": {
      "text/plain": [
       "0.7884231536926147"
      ]
     },
     "execution_count": 173,
     "metadata": {},
     "output_type": "execute_result"
    }
   ],
   "source": [
    "accuracy_score(test_y , pred_y)"
   ]
  },
  {
   "cell_type": "code",
   "execution_count": 174,
   "id": "c0898929-41c3-4557-9db6-1f4914f88984",
   "metadata": {},
   "outputs": [
    {
     "name": "stdout",
     "output_type": "stream",
     "text": [
      "accuracy : 0.7884231536926147\n",
      "precision: 0.5661559888579387\n",
      "roc_curve: 0.6962545268360124\n",
      "f1_score: 0.5412782956058588\n"
     ]
    }
   ],
   "source": [
    "w = accuracy_score(test_y , pred_y)\n",
    "x = precision_score(test_y , pred_y)\n",
    "y = roc_auc_score(test_y , pred_y)\n",
    "z = f1_score(test_y , pred_y)\n",
    "print('accuracy :',w)\n",
    "print('precision:',x)\n",
    "print('roc_curve:',y)\n",
    "print('f1_score:',z)"
   ]
  },
  {
   "cell_type": "code",
   "execution_count": 175,
   "id": "599a873e-6c61-4b3a-9a01-bb81740df22c",
   "metadata": {},
   "outputs": [
    {
     "name": "stdout",
     "output_type": "stream",
     "text": [
      "              precision    recall  f1-score   support\n",
      "\n",
      "           0       0.85      0.87      0.86      4945\n",
      "           1       0.57      0.52      0.54      1568\n",
      "\n",
      "    accuracy                           0.79      6513\n",
      "   macro avg       0.71      0.70      0.70      6513\n",
      "weighted avg       0.78      0.79      0.79      6513\n",
      "\n"
     ]
    },
    {
     "data": {
      "image/png": "[encoded data removed]",
      "text/plain": [
       "<Figure size 432x288 with 2 Axes>"
      ]
     },
     "metadata": {},
     "output_type": "display_data"
    }
   ],
   "source": [
    "from sklearn.metrics import classification_report\n",
    "print(classification_report(test_y , pred_y))\n",
    "sns.heatmap(confusion_matrix(test_y , pred_y),\n",
    "                annot=True,fmt = \"d\",linecolor=\"k\",linewidths=3)\n",
    "    \n",
    "plt.title(\"DECISION TREE CLASSIFIER CONFUSION MATRIX\",fontsize=14)\n",
    "plt.show()"
   ]
  },
  {
   "cell_type": "code",
   "execution_count": 176,
   "id": "4db320b4-7d37-4a83-a0b2-926d00f8803f",
   "metadata": {
    "tags": []
   },
   "outputs": [
    {
     "name": "stderr",
     "output_type": "stream",
     "text": [
      "C:\\Users\\Asus\\anaconda3\\lib\\site-packages\\sklearn\\model_selection\\_validation.py:372: FitFailedWarning: \n",
      "30 fits failed out of a total of 150.\n",
      "The score on these train-test partitions for these parameters will be set to nan.\n",
      "If these failures are not expected, you can try to debug them by setting error_score='raise'.\n",
      "\n",
      "Below are more details about the failures:\n",
      "--------------------------------------------------------------------------------\n",
      "30 fits failed with the following error:\n",
      "Traceback (most recent call last):\n",
      "  File \"C:\\Users\\Asus\\anaconda3\\lib\\site-packages\\sklearn\\model_selection\\_validation.py\", line 680, in _fit_and_score\n",
      "    estimator.fit(X_train, y_train, **fit_params)\n",
      "  File \"C:\\Users\\Asus\\anaconda3\\lib\\site-packages\\sklearn\\tree\\_classes.py\", line 937, in fit\n",
      "    super().fit(\n",
      "  File \"C:\\Users\\Asus\\anaconda3\\lib\\site-packages\\sklearn\\tree\\_classes.py\", line 250, in fit\n",
      "    raise ValueError(\n",
      "ValueError: min_samples_split must be an integer greater than 1 or a float in (0.0, 1.0]; got the integer 1\n",
      "\n",
      "  warnings.warn(some_fits_failed_message, FitFailedWarning)\n",
      "C:\\Users\\Asus\\anaconda3\\lib\\site-packages\\sklearn\\model_selection\\_search.py:969: UserWarning: One or more of the test scores are non-finite: [       nan 0.75917538 0.75917538 0.75917538 0.75917538        nan\n",
      " 0.78432117 0.78869762 0.79004134 0.79403418        nan 0.82513036\n",
      " 0.82513036 0.82513036 0.82513036        nan 0.75917538 0.75917538\n",
      " 0.75917538 0.75917538        nan 0.78435963 0.78877459 0.78923531\n",
      " 0.79111632        nan 0.8197558  0.8197558  0.8197558  0.8197558 ]\n",
      "  warnings.warn(\n"
     ]
    },
    {
     "data": {
      "text/plain": [
       "GridSearchCV(estimator=DecisionTreeClassifier(),\n",
       "             param_grid={'criterion': ['gini', 'entropy'],\n",
       "                         'max_depth': [1, 30, 4],\n",
       "                         'min_samples_split': [1, 2, 3, 4, 5]})"
      ]
     },
     "execution_count": 176,
     "metadata": {},
     "output_type": "execute_result"
    }
   ],
   "source": [
    "# Cross Validation\n",
    "parameter_dict={'criterion':['gini','entropy'],'max_depth':[1,30,4],\n",
    "    'min_samples_split':[1,2,3,4,5]}\n",
    "grid_model=GridSearchCV(dt,param_grid=parameter_dict)\n",
    "grid_model.fit(train_X , train_y)"
   ]
  },
  {
   "cell_type": "code",
   "execution_count": 177,
   "id": "ef93db7f-556b-4365-bc69-0993d30b5d81",
   "metadata": {},
   "outputs": [
    {
     "data": {
      "text/plain": [
       "{'criterion': 'gini', 'max_depth': 4, 'min_samples_split': 2}"
      ]
     },
     "execution_count": 177,
     "metadata": {},
     "output_type": "execute_result"
    }
   ],
   "source": [
    "grid_model.best_params_"
   ]
  },
  {
   "cell_type": "code",
   "execution_count": 178,
   "id": "081c6f66-4246-4e52-823e-2acf5cbc8e5c",
   "metadata": {},
   "outputs": [],
   "source": [
    "dt_grid=dt=DecisionTreeClassifier(criterion= 'gini', max_depth= 4, min_samples_split= 2)"
   ]
  },
  {
   "cell_type": "code",
   "execution_count": 179,
   "id": "167afc26-b7fe-4bbc-9cde-ea52a05ee74a",
   "metadata": {},
   "outputs": [
    {
     "data": {
      "text/plain": [
       "array([[4625,  320],\n",
       "       [ 808,  760]], dtype=int64)"
      ]
     },
     "execution_count": 179,
     "metadata": {},
     "output_type": "execute_result"
    }
   ],
   "source": [
    "dt_grid.fit(train_X, train_y)\n",
    "pred_y=dt_grid.predict(test_X)\n",
    "confusion_matrix(test_y,pred_y)"
   ]
  },
  {
   "cell_type": "code",
   "execution_count": 180,
   "id": "7e8c91e5-16ef-4f7d-8077-741b5de601f9",
   "metadata": {},
   "outputs": [
    {
     "data": {
      "text/plain": [
       "0.05156723963599596"
      ]
     },
     "execution_count": 180,
     "metadata": {},
     "output_type": "execute_result"
    }
   ],
   "source": [
    "255/(255+4690)"
   ]
  },
  {
   "cell_type": "code",
   "execution_count": 181,
   "id": "43d84e8a-9417-4b64-83e7-a99b62db8ab8",
   "metadata": {},
   "outputs": [
    {
     "data": {
      "text/plain": [
       "0.8268079226163059"
      ]
     },
     "execution_count": 181,
     "metadata": {},
     "output_type": "execute_result"
    }
   ],
   "source": [
    "accuracy_score(test_y,pred_y)"
   ]
  },
  {
   "cell_type": "code",
   "execution_count": 182,
   "id": "a8fc5844-0bcc-4bec-af4c-c67ad2ba6af3",
   "metadata": {},
   "outputs": [
    {
     "name": "stdout",
     "output_type": "stream",
     "text": [
      "accuracy : 0.8268079226163059\n",
      "precision: 0.7037037037037037\n",
      "roc_curve: 0.7099910237097872\n",
      "f1_score: 0.5740181268882176\n"
     ]
    }
   ],
   "source": [
    "w = accuracy_score(test_y , pred_y)\n",
    "x = precision_score(test_y , pred_y)\n",
    "y = roc_auc_score(test_y , pred_y)\n",
    "z = f1_score(test_y , pred_y)\n",
    "print('accuracy :',w)\n",
    "print('precision:',x)\n",
    "print('roc_curve:',y)\n",
    "print('f1_score:',z)"
   ]
  },
  {
   "cell_type": "code",
   "execution_count": 183,
   "id": "44309a13-3714-43b1-8163-4054bafe1bdb",
   "metadata": {},
   "outputs": [
    {
     "name": "stdout",
     "output_type": "stream",
     "text": [
      "              precision    recall  f1-score   support\n",
      "\n",
      "           0       0.85      0.94      0.89      4945\n",
      "           1       0.70      0.48      0.57      1568\n",
      "\n",
      "    accuracy                           0.83      6513\n",
      "   macro avg       0.78      0.71      0.73      6513\n",
      "weighted avg       0.82      0.83      0.81      6513\n",
      "\n"
     ]
    },
    {
     "data": {
      "image/png": "[encoded data removed]",
      "text/plain": [
       "<Figure size 432x288 with 2 Axes>"
      ]
     },
     "metadata": {},
     "output_type": "display_data"
    }
   ],
   "source": [
    "from sklearn.metrics import classification_report\n",
    "print(classification_report(test_y , pred_y))\n",
    "sns.heatmap(confusion_matrix(test_y , pred_y),\n",
    "                annot=True,fmt = \"d\",linecolor=\"k\",linewidths=3)\n",
    "    \n",
    "plt.title(\"DECISION TREE CLASSIFIER CONFUSION MATRIX\",fontsize=14)\n",
    "plt.show()"
   ]
  },
  {
   "cell_type": "markdown",
   "id": "8c40ce25-444e-4fef-b492-fd90594e6f9d",
   "metadata": {},
   "source": [
    "### Bagging Classifier"
   ]
  },
  {
   "cell_type": "code",
   "execution_count": 184,
   "id": "c213c48c-99fb-43a7-835c-e2dab520f3f5",
   "metadata": {},
   "outputs": [
    {
     "data": {
      "text/plain": [
       "array([[4392,  553],\n",
       "       [ 695,  873]], dtype=int64)"
      ]
     },
     "execution_count": 184,
     "metadata": {},
     "output_type": "execute_result"
    }
   ],
   "source": [
    "from sklearn.ensemble import BaggingClassifier\n",
    "bg=BaggingClassifier( n_estimators=100,bootstrap=True,oob_score=True,random_state=42)\n",
    "bg.fit(train_X , train_y)\n",
    "pred_y=bg.predict(test_X)\n",
    "confusion_matrix(test_y,pred_y)"
   ]
  },
  {
   "cell_type": "code",
   "execution_count": 185,
   "id": "ce7b2068-4938-46b0-a30b-e4e8cd77a1e2",
   "metadata": {},
   "outputs": [
    {
     "name": "stdout",
     "output_type": "stream",
     "text": [
      "accuracy : 0.8083832335329342\n",
      "precision: 0.6122019635343618\n",
      "roc_curve: 0.7224650363178639\n",
      "f1_score: 0.5831663326653307\n"
     ]
    }
   ],
   "source": [
    "w = accuracy_score(test_y , pred_y)\n",
    "x = precision_score(test_y , pred_y)\n",
    "y = roc_auc_score(test_y , pred_y)\n",
    "z = f1_score(test_y , pred_y)\n",
    "print('accuracy :',w)\n",
    "print('precision:',x)\n",
    "print('roc_curve:',y)\n",
    "print('f1_score:',z)"
   ]
  },
  {
   "cell_type": "code",
   "execution_count": 186,
   "id": "68d784c9-af8f-431d-9a92-0642e622c708",
   "metadata": {},
   "outputs": [
    {
     "name": "stdout",
     "output_type": "stream",
     "text": [
      "              precision    recall  f1-score   support\n",
      "\n",
      "           0       0.86      0.89      0.88      4945\n",
      "           1       0.61      0.56      0.58      1568\n",
      "\n",
      "    accuracy                           0.81      6513\n",
      "   macro avg       0.74      0.72      0.73      6513\n",
      "weighted avg       0.80      0.81      0.81      6513\n",
      "\n"
     ]
    },
    {
     "data": {
      "image/png": "[encoded data removed]",
      "text/plain": [
       "<Figure size 432x288 with 2 Axes>"
      ]
     },
     "metadata": {},
     "output_type": "display_data"
    }
   ],
   "source": [
    "from sklearn.metrics import classification_report\n",
    "print(classification_report(test_y , pred_y))\n",
    "sns.heatmap(confusion_matrix(test_y , pred_y),\n",
    "                annot=True,fmt = \"d\",linecolor=\"k\",linewidths=3)\n",
    "    \n",
    "plt.title(\"BAGGING CLASSIFIER CONFUSION MATRIX\",fontsize=14)\n",
    "plt.show()"
   ]
  },
  {
   "cell_type": "code",
   "execution_count": 187,
   "id": "79bb319c-769d-4b4b-9c57-f35aa6cb0f99",
   "metadata": {
    "tags": []
   },
   "outputs": [
    {
     "name": "stderr",
     "output_type": "stream",
     "text": [
      "C:\\Users\\Asus\\anaconda3\\lib\\site-packages\\sklearn\\ensemble\\_bagging.py:706: UserWarning: Some inputs do not have OOB scores. This probably means too few estimators were used to compute any reliable oob estimates.\n",
      "  warn(\n",
      "C:\\Users\\Asus\\anaconda3\\lib\\site-packages\\sklearn\\ensemble\\_bagging.py:712: RuntimeWarning: invalid value encountered in true_divide\n",
      "  oob_decision_function = predictions / predictions.sum(axis=1)[:, np.newaxis]\n",
      "C:\\Users\\Asus\\anaconda3\\lib\\site-packages\\sklearn\\ensemble\\_bagging.py:706: UserWarning: Some inputs do not have OOB scores. This probably means too few estimators were used to compute any reliable oob estimates.\n",
      "  warn(\n",
      "C:\\Users\\Asus\\anaconda3\\lib\\site-packages\\sklearn\\ensemble\\_bagging.py:712: RuntimeWarning: invalid value encountered in true_divide\n",
      "  oob_decision_function = predictions / predictions.sum(axis=1)[:, np.newaxis]\n",
      "C:\\Users\\Asus\\anaconda3\\lib\\site-packages\\sklearn\\ensemble\\_bagging.py:706: UserWarning: Some inputs do not have OOB scores. This probably means too few estimators were used to compute any reliable oob estimates.\n",
      "  warn(\n",
      "C:\\Users\\Asus\\anaconda3\\lib\\site-packages\\sklearn\\ensemble\\_bagging.py:712: RuntimeWarning: invalid value encountered in true_divide\n",
      "  oob_decision_function = predictions / predictions.sum(axis=1)[:, np.newaxis]\n",
      "C:\\Users\\Asus\\anaconda3\\lib\\site-packages\\sklearn\\ensemble\\_bagging.py:706: UserWarning: Some inputs do not have OOB scores. This probably means too few estimators were used to compute any reliable oob estimates.\n",
      "  warn(\n",
      "C:\\Users\\Asus\\anaconda3\\lib\\site-packages\\sklearn\\ensemble\\_bagging.py:712: RuntimeWarning: invalid value encountered in true_divide\n",
      "  oob_decision_function = predictions / predictions.sum(axis=1)[:, np.newaxis]\n",
      "C:\\Users\\Asus\\anaconda3\\lib\\site-packages\\sklearn\\ensemble\\_bagging.py:706: UserWarning: Some inputs do not have OOB scores. This probably means too few estimators were used to compute any reliable oob estimates.\n",
      "  warn(\n",
      "C:\\Users\\Asus\\anaconda3\\lib\\site-packages\\sklearn\\ensemble\\_bagging.py:712: RuntimeWarning: invalid value encountered in true_divide\n",
      "  oob_decision_function = predictions / predictions.sum(axis=1)[:, np.newaxis]\n",
      "C:\\Users\\Asus\\anaconda3\\lib\\site-packages\\sklearn\\ensemble\\_bagging.py:706: UserWarning: Some inputs do not have OOB scores. This probably means too few estimators were used to compute any reliable oob estimates.\n",
      "  warn(\n",
      "C:\\Users\\Asus\\anaconda3\\lib\\site-packages\\sklearn\\ensemble\\_bagging.py:712: RuntimeWarning: invalid value encountered in true_divide\n",
      "  oob_decision_function = predictions / predictions.sum(axis=1)[:, np.newaxis]\n",
      "C:\\Users\\Asus\\anaconda3\\lib\\site-packages\\sklearn\\ensemble\\_bagging.py:706: UserWarning: Some inputs do not have OOB scores. This probably means too few estimators were used to compute any reliable oob estimates.\n",
      "  warn(\n",
      "C:\\Users\\Asus\\anaconda3\\lib\\site-packages\\sklearn\\ensemble\\_bagging.py:712: RuntimeWarning: invalid value encountered in true_divide\n",
      "  oob_decision_function = predictions / predictions.sum(axis=1)[:, np.newaxis]\n",
      "C:\\Users\\Asus\\anaconda3\\lib\\site-packages\\sklearn\\ensemble\\_bagging.py:706: UserWarning: Some inputs do not have OOB scores. This probably means too few estimators were used to compute any reliable oob estimates.\n",
      "  warn(\n",
      "C:\\Users\\Asus\\anaconda3\\lib\\site-packages\\sklearn\\ensemble\\_bagging.py:712: RuntimeWarning: invalid value encountered in true_divide\n",
      "  oob_decision_function = predictions / predictions.sum(axis=1)[:, np.newaxis]\n",
      "C:\\Users\\Asus\\anaconda3\\lib\\site-packages\\sklearn\\ensemble\\_bagging.py:706: UserWarning: Some inputs do not have OOB scores. This probably means too few estimators were used to compute any reliable oob estimates.\n",
      "  warn(\n",
      "C:\\Users\\Asus\\anaconda3\\lib\\site-packages\\sklearn\\ensemble\\_bagging.py:712: RuntimeWarning: invalid value encountered in true_divide\n",
      "  oob_decision_function = predictions / predictions.sum(axis=1)[:, np.newaxis]\n",
      "C:\\Users\\Asus\\anaconda3\\lib\\site-packages\\sklearn\\ensemble\\_bagging.py:706: UserWarning: Some inputs do not have OOB scores. This probably means too few estimators were used to compute any reliable oob estimates.\n",
      "  warn(\n",
      "C:\\Users\\Asus\\anaconda3\\lib\\site-packages\\sklearn\\ensemble\\_bagging.py:712: RuntimeWarning: invalid value encountered in true_divide\n",
      "  oob_decision_function = predictions / predictions.sum(axis=1)[:, np.newaxis]\n"
     ]
    },
    {
     "data": {
      "text/plain": [
       "GridSearchCV(estimator=BaggingClassifier(n_estimators=100, oob_score=True,\n",
       "                                         random_state=42),\n",
       "             param_grid={'n_estimators': [1, 11, 21, 31, 41, 51, 61, 71, 81,\n",
       "                                          91]})"
      ]
     },
     "execution_count": 187,
     "metadata": {},
     "output_type": "execute_result"
    }
   ],
   "source": [
    "# Cross Validation\n",
    "from sklearn.model_selection import GridSearchCV\n",
    "param_grid_bagging = {'n_estimators':list(range(1,100,10))}\n",
    "grid = GridSearchCV(bg , param_grid=param_grid_bagging)\n",
    "grid.fit(train_X , train_y)"
   ]
  },
  {
   "cell_type": "code",
   "execution_count": 188,
   "id": "d4748dcf-9815-454a-9ac3-35b82b7d2ec4",
   "metadata": {},
   "outputs": [
    {
     "data": {
      "text/plain": [
       "{'n_estimators': 81}"
      ]
     },
     "execution_count": 188,
     "metadata": {},
     "output_type": "execute_result"
    }
   ],
   "source": [
    "grid.best_params_"
   ]
  },
  {
   "cell_type": "code",
   "execution_count": 189,
   "id": "79f997ff-fe3f-40f6-8723-a472ad419617",
   "metadata": {
    "tags": []
   },
   "outputs": [
    {
     "data": {
      "text/plain": [
       "array([[4382,  563],\n",
       "       [ 693,  875]], dtype=int64)"
      ]
     },
     "execution_count": 189,
     "metadata": {},
     "output_type": "execute_result"
    }
   ],
   "source": [
    "bg = BaggingClassifier(n_estimators=31 , bootstrap=True , oob_score=True)\n",
    "bg.fit(train_X , train_y)\n",
    "pred_y = bg.predict(test_X)\n",
    "confusion_matrix(test_y , pred_y)"
   ]
  },
  {
   "cell_type": "code",
   "execution_count": 190,
   "id": "b03e1ff8-ca88-4fe6-aa9e-f1f85e1d144c",
   "metadata": {},
   "outputs": [
    {
     "data": {
      "text/plain": [
       "0.8071549209273761"
      ]
     },
     "execution_count": 190,
     "metadata": {},
     "output_type": "execute_result"
    }
   ],
   "source": [
    "accuracy_score(test_y , pred_y)"
   ]
  },
  {
   "cell_type": "code",
   "execution_count": 191,
   "id": "eed271ec-390b-488e-b150-b2ec4536d2e8",
   "metadata": {},
   "outputs": [
    {
     "name": "stdout",
     "output_type": "stream",
     "text": [
      "              precision    recall  f1-score   support\n",
      "\n",
      "           0       0.86      0.89      0.87      4945\n",
      "           1       0.61      0.56      0.58      1568\n",
      "\n",
      "    accuracy                           0.81      6513\n",
      "   macro avg       0.74      0.72      0.73      6513\n",
      "weighted avg       0.80      0.81      0.80      6513\n",
      "\n"
     ]
    },
    {
     "data": {
      "image/png": "[encoded data removed]",
      "text/plain": [
       "<Figure size 432x288 with 2 Axes>"
      ]
     },
     "metadata": {},
     "output_type": "display_data"
    }
   ],
   "source": [
    "from sklearn.metrics import classification_report\n",
    "print(classification_report(test_y , pred_y))\n",
    "sns.heatmap(confusion_matrix(test_y , pred_y),\n",
    "                annot=True,fmt = \"d\",linecolor=\"k\",linewidths=3)\n",
    "    \n",
    "plt.title(\"BAGGING CLASSIFIER CONFUSION MATRIX\",fontsize=14)\n",
    "plt.show()"
   ]
  },
  {
   "cell_type": "code",
   "execution_count": null,
   "id": "204e1655-677d-49a4-b506-127ce1ee6cb2",
   "metadata": {},
   "outputs": [],
   "source": []
  },
  {
   "cell_type": "markdown",
   "id": "591bf80f-e6e6-4d41-a0f2-8d889bb5f576",
   "metadata": {},
   "source": [
    "### Random Classifier"
   ]
  },
  {
   "cell_type": "code",
   "execution_count": 192,
   "id": "ff147c46-8644-47e1-8435-2aaa25768545",
   "metadata": {},
   "outputs": [
    {
     "data": {
      "text/plain": [
       "array([[4418,  527],\n",
       "       [ 719,  849]], dtype=int64)"
      ]
     },
     "execution_count": 192,
     "metadata": {},
     "output_type": "execute_result"
    }
   ],
   "source": [
    "from sklearn.ensemble import RandomForestClassifier\n",
    "rf=RandomForestClassifier()\n",
    "rf.fit(train_X , train_y)\n",
    "pred_y = rf.predict(test_X)\n",
    "confusion_matrix(test_y , pred_y)"
   ]
  },
  {
   "cell_type": "code",
   "execution_count": 194,
   "id": "40a5d5a4-3262-48a1-9dec-49fad5f2de34",
   "metadata": {},
   "outputs": [
    {
     "data": {
      "text/plain": [
       "0.8086903116843237"
      ]
     },
     "execution_count": 194,
     "metadata": {},
     "output_type": "execute_result"
    }
   ],
   "source": [
    "accuracy_score(test_y , pred_y)"
   ]
  },
  {
   "cell_type": "code",
   "execution_count": 195,
   "id": "315d8b8d-6bdd-437d-8151-b355bbd6bd81",
   "metadata": {},
   "outputs": [
    {
     "name": "stdout",
     "output_type": "stream",
     "text": [
      "accuracy : 0.8086903116843237\n",
      "precision: 0.6170058139534884\n",
      "roc_curve: 0.7174408931924641\n",
      "f1_score: 0.5767663043478262\n"
     ]
    }
   ],
   "source": [
    "w = accuracy_score(test_y , pred_y)\n",
    "x = precision_score(test_y , pred_y)\n",
    "y = roc_auc_score(test_y , pred_y)\n",
    "z = f1_score(test_y , pred_y)\n",
    "print('accuracy :',w)\n",
    "print('precision:',x)\n",
    "print('roc_curve:',y)\n",
    "print('f1_score:',z)"
   ]
  },
  {
   "cell_type": "code",
   "execution_count": 196,
   "id": "1e0e551c-ed78-4ec8-a947-9b98ecacb2d4",
   "metadata": {},
   "outputs": [
    {
     "name": "stdout",
     "output_type": "stream",
     "text": [
      "              precision    recall  f1-score   support\n",
      "\n",
      "           0       0.86      0.89      0.88      4945\n",
      "           1       0.62      0.54      0.58      1568\n",
      "\n",
      "    accuracy                           0.81      6513\n",
      "   macro avg       0.74      0.72      0.73      6513\n",
      "weighted avg       0.80      0.81      0.80      6513\n",
      "\n"
     ]
    },
    {
     "data": {
      "image/png": "[encoded data removed]",
      "text/plain": [
       "<Figure size 432x288 with 2 Axes>"
      ]
     },
     "metadata": {},
     "output_type": "display_data"
    }
   ],
   "source": [
    "from sklearn.metrics import classification_report\n",
    "print(classification_report(test_y , pred_y))\n",
    "sns.heatmap(confusion_matrix(test_y , pred_y),\n",
    "                annot=True,fmt = \"d\",linecolor=\"k\",linewidths=3)\n",
    "    \n",
    "plt.title(\"RANDOM FOREST CLASSIFIER CONFUSION MATRIX\",fontsize=14)\n",
    "plt.show()"
   ]
  },
  {
   "cell_type": "code",
   "execution_count": null,
   "id": "e2d9e23c-6a3f-4b8c-9327-de21ce4be7be",
   "metadata": {},
   "outputs": [],
   "source": []
  },
  {
   "cell_type": "markdown",
   "id": "f190268b-5a28-4552-a6ed-776b6ac7223a",
   "metadata": {},
   "source": [
    "### SVM"
   ]
  },
  {
   "cell_type": "code",
   "execution_count": 197,
   "id": "30f9af1d-66f5-443b-80d1-c148b8f4e85b",
   "metadata": {},
   "outputs": [
    {
     "name": "stdout",
     "output_type": "stream",
     "text": [
      "accuracy : 0.8297251650545063\n",
      "precision: 0.6969957081545064\n",
      "roc_curve: 0.7232359526216958\n",
      "f1_score: 0.5942188071716064\n"
     ]
    }
   ],
   "source": [
    "from sklearn.svm import SVC\n",
    "svm= SVC(degree=4)\n",
    "svm.fit(train_X , train_y)\n",
    "y_pred_svm=svm.predict(test_X)\n",
    "w = accuracy_score(test_y ,y_pred_svm)\n",
    "x = precision_score(test_y , y_pred_svm)\n",
    "y = roc_auc_score(test_y , y_pred_svm)\n",
    "z = f1_score(test_y ,y_pred_svm)\n",
    "print('accuracy :',w)\n",
    "print('precision:',x)\n",
    "print('roc_curve:',y)\n",
    "print('f1_score:',z)"
   ]
  },
  {
   "cell_type": "code",
   "execution_count": 198,
   "id": "2babba02-6a5a-4ac9-a1d6-bc52ba0152ad",
   "metadata": {},
   "outputs": [
    {
     "name": "stdout",
     "output_type": "stream",
     "text": [
      "              precision    recall  f1-score   support\n",
      "\n",
      "           0       0.86      0.93      0.89      4945\n",
      "           1       0.70      0.52      0.59      1568\n",
      "\n",
      "    accuracy                           0.83      6513\n",
      "   macro avg       0.78      0.72      0.74      6513\n",
      "weighted avg       0.82      0.83      0.82      6513\n",
      "\n"
     ]
    },
    {
     "data": {
      "image/png": "[encoded data removed]",
      "text/plain": [
       "<Figure size 432x288 with 2 Axes>"
      ]
     },
     "metadata": {},
     "output_type": "display_data"
    }
   ],
   "source": [
    "from sklearn.metrics import classification_report\n",
    "print(classification_report(test_y , y_pred_svm))\n",
    "sns.heatmap(confusion_matrix(test_y , y_pred_svm),\n",
    "                annot=True,fmt = \"d\",linecolor=\"k\",linewidths=3)\n",
    "    \n",
    "plt.title(\"SUPPORT VECTOR CLASSIFIER CONFUSION MATRIX\",fontsize=14)\n",
    "plt.show()"
   ]
  },
  {
   "cell_type": "markdown",
   "id": "69e19488-6b8e-41ee-ad4b-0c492a82fc52",
   "metadata": {},
   "source": [
    "### Voting classifier"
   ]
  },
  {
   "cell_type": "code",
   "execution_count": 199,
   "id": "1fba4342-ad37-40fb-b838-5f7073f598e9",
   "metadata": {},
   "outputs": [],
   "source": [
    "lr=LogisticRegression(random_state=42)\n",
    "knn=KNeighborsClassifier(n_neighbors=41,weights='distance')\n",
    "dt_grid=DecisionTreeClassifier(criterion= 'gini', max_depth= 4, min_samples_split= 2,random_state=42)\n",
    "rf=RandomForestClassifier(n_estimators=100,criterion= 'gini', max_depth= 4, min_samples_split= 2,random_state=42)\n",
    "bg=BaggingClassifier( n_estimators=100,bootstrap=True,oob_score=True,random_state=42)"
   ]
  },
  {
   "cell_type": "code",
   "execution_count": 200,
   "id": "c772d744-82eb-4b13-8aec-4b622520aa08",
   "metadata": {},
   "outputs": [
    {
     "data": {
      "text/plain": [
       "array([[4760,  185],\n",
       "       [ 961,  607]], dtype=int64)"
      ]
     },
     "execution_count": 200,
     "metadata": {},
     "output_type": "execute_result"
    }
   ],
   "source": [
    "from sklearn.ensemble import VotingClassifier\n",
    "voting_clf=VotingClassifier([('knn',knn),('dt',dt_grid),('rf',rf),('bg',bg)],voting='hard',n_jobs=5)\n",
    "voting_clf.fit(train_X , train_y)\n",
    "y_pred_voting_clf=voting_clf.predict(test_X)\n",
    "confusion_matrix(test_y,y_pred_voting_clf)"
   ]
  },
  {
   "cell_type": "code",
   "execution_count": 201,
   "id": "921500cc-d0b7-4b11-925f-f602a7f96d69",
   "metadata": {},
   "outputs": [
    {
     "name": "stdout",
     "output_type": "stream",
     "text": [
      "accuracy : 0.8240442192538001\n",
      "precision: 0.7664141414141414\n",
      "roc_curve: 0.6748529100720166\n",
      "f1_score: 0.514406779661017\n"
     ]
    }
   ],
   "source": [
    "w = accuracy_score(test_y ,y_pred_voting_clf)\n",
    "x = precision_score(test_y , y_pred_voting_clf)\n",
    "y = roc_auc_score(test_y , y_pred_voting_clf)\n",
    "z = f1_score(test_y ,y_pred_voting_clf)\n",
    "print('accuracy :',w)\n",
    "print('precision:',x)\n",
    "print('roc_curve:',y)\n",
    "print('f1_score:',z)"
   ]
  },
  {
   "cell_type": "code",
   "execution_count": 202,
   "id": "0c71f507-ca0b-4ce5-8353-76b94ae0318d",
   "metadata": {},
   "outputs": [
    {
     "name": "stdout",
     "output_type": "stream",
     "text": [
      "              precision    recall  f1-score   support\n",
      "\n",
      "           0       0.83      0.96      0.89      4945\n",
      "           1       0.77      0.39      0.51      1568\n",
      "\n",
      "    accuracy                           0.82      6513\n",
      "   macro avg       0.80      0.67      0.70      6513\n",
      "weighted avg       0.82      0.82      0.80      6513\n",
      "\n"
     ]
    },
    {
     "data": {
      "image/png": "[encoded data removed]",
      "text/plain": [
       "<Figure size 432x288 with 2 Axes>"
      ]
     },
     "metadata": {},
     "output_type": "display_data"
    }
   ],
   "source": [
    "from sklearn.metrics import classification_report\n",
    "print(classification_report(test_y , y_pred_voting_clf))\n",
    "sns.heatmap(confusion_matrix(test_y , y_pred_voting_clf),\n",
    "                annot=True,fmt = \"d\",linecolor=\"k\",linewidths=3)\n",
    "    \n",
    "plt.title(\"VOTING CLASSIFIER CONFUSION MATRIX\",fontsize=14)\n",
    "plt.show()"
   ]
  },
  {
   "cell_type": "markdown",
   "id": "6ce6a2e7-3eef-4919-b528-2033d7b2595e",
   "metadata": {},
   "source": [
    "## XGBOOST CLASSIFIER"
   ]
  },
  {
   "cell_type": "code",
   "execution_count": 203,
   "id": "a4e5e7ba-3669-4351-a77d-4da201a2f887",
   "metadata": {},
   "outputs": [
    {
     "name": "stdout",
     "output_type": "stream",
     "text": [
      "[00:16:03] WARNING: C:/buildkite-agent/builds/buildkite-windows-cpu-autoscaling-group-i-03de431ba26204c4d-1/xgboost/xgboost-ci-windows/src/learner.cc:767: \n",
      "Parameters: { \"max_dept\" } are not used.\n",
      "\n"
     ]
    },
    {
     "data": {
      "text/plain": [
       "array([[4533,  412],\n",
       "       [ 655,  913]], dtype=int64)"
      ]
     },
     "execution_count": 203,
     "metadata": {},
     "output_type": "execute_result"
    }
   ],
   "source": [
    "from xgboost import XGBClassifier\n",
    "xgb = XGBClassifier(max_dept = 5 , min_child_weight = 1)\n",
    "xgb.fit(train_X , train_y)\n",
    "pred_y = xgb.predict(test_X)\n",
    "confusion_matrix(test_y , pred_y)"
   ]
  },
  {
   "cell_type": "code",
   "execution_count": 206,
   "id": "62c5234f-5f33-413e-a098-66f44d9b77bb",
   "metadata": {},
   "outputs": [
    {
     "name": "stdout",
     "output_type": "stream",
     "text": [
      "              precision    recall  f1-score   support\n",
      "\n",
      "           0       0.87      0.92      0.89      4945\n",
      "           1       0.69      0.58      0.63      1568\n",
      "\n",
      "    accuracy                           0.84      6513\n",
      "   macro avg       0.78      0.75      0.76      6513\n",
      "weighted avg       0.83      0.84      0.83      6513\n",
      "\n"
     ]
    },
    {
     "data": {
      "image/png": "[encoded data removed]",
      "text/plain": [
       "<Figure size 432x288 with 2 Axes>"
      ]
     },
     "metadata": {},
     "output_type": "display_data"
    }
   ],
   "source": [
    "from sklearn.metrics import classification_report\n",
    "print(classification_report(test_y , pred_y))\n",
    "sns.heatmap(confusion_matrix(test_y , pred_y),\n",
    "                annot=True,fmt = \"d\",linecolor=\"k\",linewidths=3)\n",
    "    \n",
    "plt.title(\"XGBOOST CLASSIFIER CONFUSION MATRIX\",fontsize=14)\n",
    "plt.show()"
   ]
  },
  {
   "cell_type": "markdown",
   "id": "5ba98ab4-ab5a-44b5-9c31-5cf14a508d67",
   "metadata": {},
   "source": [
    "### CONCLUSION : XGBOOST Classifier shows Highest Accuracy , Precision , Recall and F1score , so we should go with XGBOOST CLASSIFIER MODEL"
   ]
  },
  {
   "cell_type": "code",
   "execution_count": null,
   "id": "0f391cb0-57ce-4c17-8763-5a79c57438a5",
   "metadata": {},
   "outputs": [],
   "source": []
  },
  {
   "cell_type": "code",
   "execution_count": null,
   "id": "d15d94f9-353c-4156-b4d6-e36b9c1c1999",
   "metadata": {},
   "outputs": [],
   "source": []
  }
 ],
 "metadata": {
  "kernelspec": {
   "display_name": "Python 3 (ipykernel)",
   "language": "python",
   "name": "python3"
  },
  "language_info": {
   "codemirror_mode": {
    "name": "ipython",
    "version": 3
   },
   "file_extension": ".py",
   "mimetype": "text/x-python",
   "name": "python",
   "nbconvert_exporter": "python",
   "pygments_lexer": "ipython3",
   "version": "3.9.12"
  }
 },
 "nbformat": 4,
 "nbformat_minor": 5
}
